{
 "cells": [
  {
   "cell_type": "code",
   "execution_count": 126,
   "metadata": {
    "collapsed": false
   },
   "outputs": [
    {
     "name": "stdout",
     "output_type": "stream",
     "text": [
      "True\n",
      "[6, 5, 4]\n"
     ]
    }
   ],
   "source": [
    "from collections.abc import Sequence\n",
    "from typing import List\n",
    "class Partition(Sequence):\n",
    "    def __init__(self,parts: List[int] = []):\n",
    "        self._parts = sorted(parts, reverse=True)\n",
    "        super().__init__()\n",
    "    def length(self):\n",
    "        return len(self._parts)\n",
    "    def __len__(self):\n",
    "        return len(self._parts)\n",
    "    def __getitem__(self, index):\n",
    "        return self._parts[index]\n",
    "    def copy(self):\n",
    "        return Partition(self._parts[:])\n",
    "\n",
    "    def __str__(self):\n",
    "        return str(self._parts)\n",
    "    def __repr__(self):\n",
    "        return str(self._parts)\n",
    "    def _check(self, parts: List[int]):\n",
    "        if not all([x > 0 for x in parts]):\n",
    "            raise ValueError(\"All parts must be positive\")\n",
    "    def size(self) -> int: \n",
    "        return sum(self._parts)\n",
    "    def __eq__(self, other):\n",
    "        return self._parts == other._parts\n",
    "    def __hash__(self):\n",
    "        return hash(tuple(self._parts))\n",
    "    def append(self, value: int) -> None:\n",
    "        self._parts.append(value)\n",
    "        self._parts = sorted(self._parts, reverse=True)\n",
    "    def pop(self) -> int:\n",
    "        if len(self._parts) == 0:\n",
    "            raise ValueError(\"Partition is empty\")\n",
    "        return self._parts.pop()\n",
    "    def distinct(self) -> bool:\n",
    "        return len(set(self._parts)) == len(self._parts)\n",
    "    def smallest(self) -> int:\n",
    "        return self._parts[-1]\n",
    "    def largest(self) -> int:\n",
    "        return self._parts[0] if len(self) > 0 else 0\n",
    "    def bok(self) -> int:\n",
    "        count = 1\n",
    "        for i in range(1, len(self)):\n",
    "            if self._parts[i] != self._parts[i-1] - 1:\n",
    "                break\n",
    "            count += 1\n",
    "        return count\n",
    "    def reduce_bok(self) -> None:\n",
    "        for i in range(self.bok()):\n",
    "            self._parts[i] -= 1\n",
    "\n",
    "    def add_bok(self, bok_length: int) -> None:\n",
    "        if bok_length > len(self):\n",
    "            raise ValueError(\"Bok length is too long\")\n",
    "        for i in range(bok_length):\n",
    "            self._parts[i] += 1\n",
    "\n",
    "    def franklin_involution(self) -> bool:\n",
    "        if len(self) == 0: return True\n",
    "\n",
    "        if self.bok() == len(self) and self.smallest() == self.bok():\n",
    "            return True\n",
    "        if self.bok() == len(self) and self.smallest() == self.bok() + 1:\n",
    "            return True\n",
    "        if self.smallest() <= self.bok():\n",
    "            self.add_bok(self.pop())\n",
    "        else:\n",
    "            self.append(self.bok())\n",
    "            self.reduce_bok()\n",
    "        return False\n",
    "\n",
    "    \n",
    "    @staticmethod\n",
    "    def pentagonal_partition(m: int, minus: bool) -> int:\n",
    "        if minus:\n",
    "            d = []\n",
    "            for i in range(m):\n",
    "                d.append(m + i)\n",
    "            return Partition(d)\n",
    "        else:\n",
    "            d = []\n",
    "            for i in range(m):\n",
    "                d.append(m + 1 + i)\n",
    "            return Partition(d)\n",
    "        \n",
    "    # Returns generator of all partitions of n\n",
    "    @staticmethod\n",
    "    def partitions(n, I=1):\n",
    "        yield (n,)\n",
    "        for i in range(I, n//2 + 1):\n",
    "            for p in Partition.partitions(n-i, i):\n",
    "                yield (i,) + p\n",
    "        \n",
    "    \n",
    "\n",
    "\n",
    "part = Partition([4,5,6])\n",
    "print(part.franklin_involution())\n",
    "print(part)\n",
    "len(part)\n",
    "dick = {}\n"
   ]
  },
  {
   "cell_type": "code",
   "execution_count": 12,
   "metadata": {},
   "outputs": [
    {
     "name": "stdout",
     "output_type": "stream",
     "text": [
      "[5, 4] [5, 4, 3]\n"
     ]
    }
   ],
   "source": [
    "a = Partition([3,4,5])\n",
    "b = a.copy()\n",
    "a.pop()\n",
    "print(a, b)\n"
   ]
  },
  {
   "cell_type": "code",
   "execution_count": 154,
   "metadata": {},
   "outputs": [
    {
     "name": "stdout",
     "output_type": "stream",
     "text": [
      "[5, 4, 3] [4, 3, 2, 1]\n",
      "0 [5, 4, 3] [4, 3, 2, 1]\n",
      "1 [6, 4, 3] [4, 3, 2]\n",
      "2 [5, 4, 3, 2, 1] [4, 3]\n",
      "3 [6, 5, 3] [4, 3, 1]\n",
      "4 [7, 5, 3] [4, 3]\n",
      "5 [6, 5, 1] [4, 3, 3]\n",
      "6 [5, 4, 2] [4, 3, 3, 1]\n",
      "7 [6, 4, 2] [4, 3, 3]\n",
      "8 [5, 4, 1] [4, 3, 3, 2]\n",
      "9 [4, 3, 2] [4, 3, 3, 2, 1]\n",
      "10 [5, 3, 2] [4, 3, 3, 2]\n",
      "11 [4, 3, 1] [4, 3, 3, 2, 2]\n",
      "12 [4, 3] [4, 3, 3, 2, 2, 1]\n",
      "0 [2] [1]\n",
      "1 [3] []\n",
      "2 [] [3]\n",
      "(1, [] [3])\n"
     ]
    }
   ],
   "source": [
    "class PartitionPair:\n",
    "    # partition 1 must be distinct\n",
    "    # partition 2 can be arbitrary\n",
    "    def __init__(self, partition1 : Partition, partition2 : Partition):\n",
    "        if not partition1.distinct():\n",
    "            raise ValueError(\"partition 1 must be distinct\")\n",
    "        self.partition1 = partition1\n",
    "        self.partition2 = partition2\n",
    "    def __str__(self):\n",
    "        return str(self.partition1) + \" \" + str(self.partition2)\n",
    "    def __repr__(self):\n",
    "        return str(self.partition1) + \" \" + str(self.partition2)\n",
    "    def __eq__(self, other):\n",
    "        return self.partition1 == other.partition1 and self.partition2 == other.partition2\n",
    "    def copy(self):\n",
    "        return PartitionPair(self.partition1.copy(), self.partition2.copy())\n",
    "    def __hash__(self):\n",
    "        return hash(tuple(self.partition1) + tuple(self.partition2))\n",
    "\n",
    "    \"\"\"\n",
    "        It is fixed point only if both partitions are zero\n",
    "        @return: boolean if the pair is a fixed point for Vahlen involution. If True the pair is not changed\n",
    "    \"\"\"\n",
    "    def vahlen_involution(self) -> bool:\n",
    "        if len(self.partition1) == 0 and len(self.partition2) == 0:\n",
    "            return True\n",
    "        if len(self.partition1) == 0:\n",
    "            self.partition1.append(self.partition2.pop())\n",
    "            return False\n",
    "        if len(self.partition2) == 0:\n",
    "            self.partition2.append(self.partition1.pop())\n",
    "            return False\n",
    "        if self.partition1[-1] <= self.partition2[-1]:\n",
    "            self.partition2.append(self.partition1.pop())\n",
    "        else:\n",
    "            self.partition1.append(self.partition2.pop())\n",
    "        return False\n",
    "    \n",
    "    \"\"\"\n",
    "        @return: boolean if the pair is a fixed point for Franklin involution. If True the pair is not changed\n",
    "    \"\"\"\n",
    "    def franklin_involution(self) -> bool:\n",
    "        return self.partition1.franklin_involution()\n",
    "    \n",
    "        \n",
    "    # def principle(self, printout : bool = False) -> int:\n",
    "    #     pair = self.copy()\n",
    "    #     count = 0\n",
    "    #     if not pair.franklin_involution():\n",
    "    #         raise ValueError(\"You must provide fixed point partition\")\n",
    "    #     while True:\n",
    "    #         b = pair.vahlen_involution()\n",
    "    #         # if printout: print(\"VAHLEN\", b, p)\n",
    "    #         b = pair.franklin_involution()\n",
    "    #         if printout: print(\"FRANKLIN\", b, pair)\n",
    "    #         if b: \n",
    "    #             return (pair, count)\n",
    "    #         count += 1\n",
    "    def principle(self) -> PartitionPair:\n",
    "        i, el = 0, None\n",
    "        for i, el in enumerate(self.principle_generator()):\n",
    "            print(i, el)\n",
    "        return (i-1, el)\n",
    "        \n",
    "    \n",
    "    \n",
    "    def principle_generator(self, vahlen : bool = False) -> PartitionPair:\n",
    "        pair = self.copy()\n",
    "        count = 0\n",
    "        yield pair\n",
    "        if not pair.franklin_involution():\n",
    "            raise ValueError(\"You must provide fixed point partition\")\n",
    "        while True:\n",
    "            pair = pair.copy()\n",
    "            b = pair.vahlen_involution()\n",
    "            if vahlen: yield pair.copy()\n",
    "            b = pair.franklin_involution()\n",
    "            yield pair\n",
    "            if b: \n",
    "                break\n",
    "            count += 1\n",
    "\n",
    "\n",
    "        \n",
    "pair = PartitionPair(Partition([5,4,3]), Partition([4,3,2,1]))\n",
    "pair.franklin_involution()\n",
    "print(pair)\n",
    "a = pair.principle()\n",
    "dick = {}\n",
    "pair2 = PartitionPair(Partition([2]), Partition([1]))\n",
    "print(pair2.principle())\n"
   ]
  },
  {
   "cell_type": "code",
   "execution_count": 129,
   "metadata": {},
   "outputs": [
    {
     "name": "stdout",
     "output_type": "stream",
     "text": [
      "52 52\n"
     ]
    }
   ],
   "source": [
    "\n",
    "def generate(n : int, even : bool = True) -> dict[PartitionPair, PartitionPair] :\n",
    "    elements = dict()\n",
    "    m = 0 if even else 1\n",
    "    while True:\n",
    "        m1 = (m * (3*m - 1)) // 2\n",
    "        if m1 > n: break\n",
    "        d = Partition.pentagonal_partition(m, minus=True)\n",
    "        for p in Partition.partitions(n - m1):\n",
    "            pair = PartitionPair(d.copy(), Partition(p))\n",
    "            elements[pair] = pair.copy().principle()\n",
    "        m += 2\n",
    "\n",
    "    m = 0 if even else 1\n",
    "    while True:\n",
    "        m1 = (m * (3*m + 1)) // 2\n",
    "        if m1 > n: break\n",
    "        d = Partition.pentagonal_partition(m, minus=False)\n",
    "        for p in Partition.partitions(n - m1):\n",
    "            pair = PartitionPair(d.copy(), Partition(p))\n",
    "            elements[pair] = pair.principle()\n",
    "        m += 2\n",
    "    return elements\n",
    "\n"
   ]
  },
  {
   "cell_type": "code",
   "execution_count": 136,
   "metadata": {},
   "outputs": [
    {
     "name": "stdout",
     "output_type": "stream",
     "text": [
      "1 1 1.0 1.0 0.0769956111907959\n",
      "([] [1], [1] [])\n",
      "2 1 1.0 1.0 0.0010006427764892578\n",
      "([] [2], [2] [])\n",
      "3 2 1.3333333333333333 1.0 0.016000747680664062\n",
      "([] [3], [2] [1])\n",
      "4 3 1.4 1.0 0.0009846687316894531\n",
      "([] [4], [2] [1, 1])\n",
      "5 4 1.625 1.0 0.004995822906494141\n",
      "([] [5], [2] [1, 1, 1])\n",
      "6 5 1.6666666666666667 1.0 0.028995752334594727\n",
      "([] [6], [2] [1, 1, 1, 1])\n",
      "7 6 1.8333333333333333 1.0 0.0020029544830322266\n",
      "([] [7], [2] [1, 1, 1, 1, 1])\n",
      "8 8 1.9230769230769231 1.0 0.005009651184082031\n",
      "([3, 2] [1, 1, 1], [2] [2, 1, 1, 1, 1])\n",
      "9 10 2.081081081081081 1.0 0.006998777389526367\n",
      "([3, 2] [1, 1, 1, 1], [2] [2, 1, 1, 1, 1, 1])\n",
      "10 12 2.230769230769231 1.0 0.017003297805786133\n",
      "([3, 2] [1, 1, 1, 1, 1], [2] [2, 1, 1, 1, 1, 1, 1])\n",
      "11 14 2.388888888888889 1.0 0.04290199279785156\n",
      "([3, 2] [1, 1, 1, 1, 1, 1], [2] [2, 1, 1, 1, 1, 1, 1, 1])\n",
      "12 17 2.5454545454545454 1.0 0.03899669647216797\n",
      "([4, 3] [2, 1, 1, 1], [2] [4, 1, 1, 1, 1, 1, 1])\n",
      "13 21 2.716417910447761 1.0 0.03300070762634277\n",
      "([4, 3] [2, 1, 1, 1, 1], [2] [4, 1, 1, 1, 1, 1, 1, 1])\n",
      "14 25 2.888888888888889 1.0 0.0839991569519043\n",
      "([4, 3] [2, 1, 1, 1, 1, 1], [2] [4, 1, 1, 1, 1, 1, 1, 1, 1])\n",
      "15 31 3.066666666666667 1.0 0.06334400177001953\n",
      "([4, 3] [2, 2, 1, 1, 1, 1], [2] [5, 1, 1, 1, 1, 1, 1, 1, 1])\n",
      "16 37 3.2523659305993693 1.0 0.04398226737976074\n",
      "([4, 3] [2, 2, 1, 1, 1, 1, 1], [2] [5, 1, 1, 1, 1, 1, 1, 1, 1, 1])\n",
      "17 43 3.4423076923076925 1.0 0.06300067901611328\n",
      "([4, 3] [2, 2, 1, 1, 1, 1, 1, 1], [2] [5, 1, 1, 1, 1, 1, 1, 1, 1, 1, 1])\n",
      "18 49 3.642066420664207 1.0 0.09314894676208496\n",
      "([4, 3] [2, 2, 1, 1, 1, 1, 1, 1, 1], [2] [5, 1, 1, 1, 1, 1, 1, 1, 1, 1, 1, 1])\n",
      "19 57 3.8461538461538463 1.0 0.10000491142272949\n",
      "([4, 3] [2, 2, 2, 1, 1, 1, 1, 1, 1], [2] [6, 1, 1, 1, 1, 1, 1, 1, 1, 1, 1, 1])\n",
      "20 65 4.057522123893805 1.0 0.11159539222717285\n",
      "([4, 3] [2, 2, 2, 1, 1, 1, 1, 1, 1, 1], [2] [6, 1, 1, 1, 1, 1, 1, 1, 1, 1, 1, 1, 1])\n",
      "21 73 4.276338514680484 1.0 0.17697930335998535\n",
      "([4, 3] [2, 2, 2, 1, 1, 1, 1, 1, 1, 1, 1], [2] [6, 1, 1, 1, 1, 1, 1, 1, 1, 1, 1, 1, 1, 1])\n",
      "22 81 4.502032520325203 1.0 0.1669621467590332\n",
      "([4, 3] [2, 2, 2, 1, 1, 1, 1, 1, 1, 1, 1, 1], [2] [6, 1, 1, 1, 1, 1, 1, 1, 1, 1, 1, 1, 1, 1, 1])\n",
      "23 91 4.735042735042735 1.0 0.21497416496276855\n",
      "([4, 3] [2, 2, 2, 2, 1, 1, 1, 1, 1, 1, 1, 1], [2] [7, 1, 1, 1, 1, 1, 1, 1, 1, 1, 1, 1, 1, 1, 1])\n",
      "24 104 4.976311336717428 1.0 0.5071380138397217\n",
      "([4, 3] [3, 2, 2, 2, 2, 1, 1, 1, 1, 1, 1], [5, 4, 3] [2, 2, 2, 1, 1, 1, 1, 1, 1])\n",
      "25 120 5.2246888664648505 1.0 0.9145967960357666\n",
      "([4, 3] [3, 2, 2, 2, 2, 1, 1, 1, 1, 1, 1, 1], [5, 4, 3] [2, 2, 2, 1, 1, 1, 1, 1, 1, 1])\n",
      "26 136 5.481471535982815 1.0 0.7285676002502441\n",
      "([4, 3] [3, 2, 2, 2, 2, 1, 1, 1, 1, 1, 1, 1, 1], [5, 4, 3] [2, 2, 2, 1, 1, 1, 1, 1, 1, 1, 1])\n",
      "27 152 5.746503120292662 1.0 0.6651997566223145\n",
      "([4, 3] [3, 2, 2, 2, 2, 1, 1, 1, 1, 1, 1, 1, 1, 1], [5, 4, 3] [2, 2, 2, 1, 1, 1, 1, 1, 1, 1, 1, 1])\n",
      "28 170 6.020076150917272 1.0 0.8061411380767822\n",
      "([4, 3] [3, 2, 2, 2, 2, 2, 1, 1, 1, 1, 1, 1, 1, 1], [5, 4, 3] [2, 2, 2, 2, 1, 1, 1, 1, 1, 1, 1, 1])\n",
      "29 195 6.302234636871509 1.0 1.4208757877349854\n",
      "([4, 3] [5, 2, 2, 2, 2, 2, 1, 1, 1, 1, 1, 1, 1], [6, 5, 4] [3, 2, 2, 1, 1, 1, 1, 1, 1, 1])\n",
      "30 221 6.593396653098146 1.0 2.6984546184539795\n",
      "([4, 3] [5, 2, 2, 2, 2, 2, 1, 1, 1, 1, 1, 1, 1, 1], [6, 5, 4] [3, 2, 2, 1, 1, 1, 1, 1, 1, 1, 1])\n",
      "31 255 6.89366391184573 1.0 1.7480432987213135\n",
      "([4, 3] [5, 2, 2, 2, 2, 2, 2, 1, 1, 1, 1, 1, 1, 1], [6, 5, 4] [3, 2, 2, 2, 1, 1, 1, 1, 1, 1, 1])\n",
      "32 289 7.203141361256544 1.0 2.688750982284546\n",
      "([4, 3] [5, 2, 2, 2, 2, 2, 2, 1, 1, 1, 1, 1, 1, 1, 1], [6, 5, 4] [3, 2, 2, 2, 1, 1, 1, 1, 1, 1, 1, 1])\n",
      "33 325 7.522482893450635 1.0 3.605271577835083\n",
      "([4, 3] [6, 2, 2, 2, 2, 2, 2, 2, 1, 1, 1, 1, 1, 1], [6, 5, 4] [3, 3, 2, 2, 2, 1, 1, 1, 1, 1, 1])\n",
      "34 375 7.851481184947958 1.0 4.802800893783569\n",
      "([4, 3] [6, 2, 2, 2, 2, 2, 2, 2, 1, 1, 1, 1, 1, 1, 1], [6, 5, 4] [3, 3, 2, 2, 2, 1, 1, 1, 1, 1, 1, 1])\n"
     ]
    }
   ],
   "source": [
    "from time import time\n",
    "import numpy as np\n",
    "from typing import Tuple\n",
    "\n",
    "def results(generated : dict[PartitionPair, Tuple[PartitionPair, int]]):\n",
    "    iterat = []\n",
    "    part = []\n",
    "    for X, output in generated.items():\n",
    "        iterations, Y = output\n",
    "        iterat.append(iterations)\n",
    "        part.append((X, Y))\n",
    "    return iterat, part\n",
    "\n",
    "\n",
    "\n",
    "time_start = time()\n",
    "res = np.zeros((35, 5))\n",
    "times = []\n",
    "for i in range(1, 35):\n",
    "    h = generate(i)\n",
    "    iterat, part = results(h)\n",
    "    times.append(np.array(iterat))\n",
    "    print(i, np.max(iterat), np.average(iterat), np.median(iterat), time() - time_start)\n",
    "    print(part[np.argmax(iterat)])\n",
    "    biggest.append(part[np.argmax(iterat)])\n",
    "\n",
    "    # index of max iterat\n",
    "    res[i] = [np.max(iterat), np.average(iterat), len(h), np.std(iterat), np.argmax(iterat)]\n",
    "    time_start = time()\n"
   ]
  },
  {
   "cell_type": "code",
   "execution_count": 144,
   "metadata": {},
   "outputs": [
    {
     "name": "stdout",
     "output_type": "stream",
     "text": [
      "[[0.00000000e+00 0.00000000e+00 0.00000000e+00 0.00000000e+00\n",
      "  0.00000000e+00]\n",
      " [1.00000000e+00 1.00000000e+00 1.00000000e+00 0.00000000e+00\n",
      "  0.00000000e+00]\n",
      " [1.00000000e+00 1.00000000e+00 2.00000000e+00 0.00000000e+00\n",
      "  0.00000000e+00]\n",
      " [2.00000000e+00 1.33333333e+00 3.00000000e+00 4.71404521e-01\n",
      "  0.00000000e+00]\n",
      " [3.00000000e+00 1.40000000e+00 5.00000000e+00 8.00000000e-01\n",
      "  0.00000000e+00]\n",
      " [4.00000000e+00 1.62500000e+00 8.00000000e+00 1.11102430e+00\n",
      "  0.00000000e+00]\n",
      " [5.00000000e+00 1.66666667e+00 1.20000000e+01 1.31233465e+00\n",
      "  0.00000000e+00]\n",
      " [6.00000000e+00 1.83333333e+00 1.80000000e+01 1.64147630e+00\n",
      "  0.00000000e+00]\n",
      " [8.00000000e+00 1.92307692e+00 2.60000000e+01 1.89985985e+00\n",
      "  2.40000000e+01]\n",
      " [1.00000000e+01 2.08108108e+00 3.70000000e+01 2.21027549e+00\n",
      "  3.30000000e+01]\n",
      " [1.20000000e+01 2.23076923e+00 5.20000000e+01 2.58408877e+00\n",
      "  4.60000000e+01]\n",
      " [1.40000000e+01 2.38888889e+00 7.20000000e+01 2.95595235e+00\n",
      "  6.10000000e+01]\n",
      " [1.70000000e+01 2.54545455e+00 9.90000000e+01 3.35830864e+00\n",
      "  9.50000000e+01]\n",
      " [2.10000000e+01 2.71641791e+00 1.34000000e+02 3.76077941e+00\n",
      "  1.27000000e+02]\n",
      " [2.50000000e+01 2.88888889e+00 1.80000000e+02 4.19641234e+00\n",
      "  1.70000000e+02]\n",
      " [3.10000000e+01 3.06666667e+00 2.40000000e+02 4.63902528e+00\n",
      "  2.26000000e+02]\n",
      " [3.70000000e+01 3.25236593e+00 3.17000000e+02 5.11131939e+00\n",
      "  2.96000000e+02]\n",
      " [4.30000000e+01 3.44230769e+00 4.16000000e+02 5.60490328e+00\n",
      "  3.84000000e+02]\n",
      " [4.90000000e+01 3.64206642e+00 5.42000000e+02 6.13058404e+00\n",
      "  4.97000000e+02]\n",
      " [5.70000000e+01 3.84615385e+00 7.02000000e+02 6.68537808e+00\n",
      "  6.40000000e+02]\n",
      " [6.50000000e+01 4.05752212e+00 9.04000000e+02 7.27608284e+00\n",
      "  8.19000000e+02]\n",
      " [7.30000000e+01 4.27633851e+00 1.15800000e+03 7.90474222e+00\n",
      "  1.04000000e+03]\n",
      " [8.10000000e+01 4.50203252e+00 1.47600000e+03 8.57420163e+00\n",
      "  1.31800000e+03]\n",
      " [9.10000000e+01 4.73504274e+00 1.87200000e+03 9.28819733e+00\n",
      "  1.66700000e+03]\n",
      " [1.04000000e+02 4.97631134e+00 2.36400000e+03 1.00463956e+01\n",
      "  2.11900000e+03]\n",
      " [1.20000000e+02 5.22468887e+00 2.97300000e+03 1.08505102e+01\n",
      "  2.64100000e+03]\n",
      " [1.36000000e+02 5.48147154e+00 3.72400000e+03 1.17026777e+01\n",
      "  3.28700000e+03]\n",
      " [1.52000000e+02 5.74650312e+00 4.64700000e+03 1.26039929e+01\n",
      "  4.07400000e+03]\n",
      " [1.70000000e+02 6.02007615e+00 5.77800000e+03 1.35556343e+01\n",
      "  5.07400000e+03]\n",
      " [1.95000000e+02 6.30223464e+00 7.16000000e+03 1.45579269e+01\n",
      "  6.30200000e+03]\n",
      " [2.21000000e+02 6.59339665e+00 8.84400000e+03 1.56131933e+01\n",
      "  7.73200000e+03]\n",
      " [2.55000000e+02 6.89366391e+00 1.08900000e+04 1.67222458e+01\n",
      "  9.55200000e+03]\n",
      " [2.89000000e+02 7.20314136e+00 1.33700000e+04 1.78871227e+01\n",
      "  1.16460000e+04]\n",
      " [3.25000000e+02 7.52248289e+00 1.63680000e+04 1.91093373e+01\n",
      "  1.44200000e+04]\n",
      " [3.75000000e+02 7.85148118e+00 1.99840000e+04 2.03914175e+01\n",
      "  1.74560000e+04]]\n",
      "[(0, 0.0), (1, 0.63212), (2, 0.07945), (3, 0.02245), (4, 0.04231), (5, 0.01641), (6, 0.03454), (7, 0.01123), (8, 0.02245), (9, 0.01123)]\n",
      "(1, [1] [])\n",
      "(73, [2] [6, 1, 1, 1, 1, 1, 1, 1, 1, 1, 1, 1, 1, 1])\n"
     ]
    },
    {
     "data": {
      "image/png": "[encoded data removed]",
      "text/plain": [
       "<Figure size 640x480 with 1 Axes>"
      ]
     },
     "metadata": {},
     "output_type": "display_data"
    }
   ],
   "source": [
    "#import matplotlib\n",
    "import matplotlib.pyplot as plt\n",
    "print(res)\n",
    "#plot res max\n",
    "# plt.plot(res[:30,0])\n",
    "\n",
    "# #plot differences in max\n",
    "# plt.plot(np.diff(res[:35,0]))\n",
    "\n",
    "# #plot sec order differences in max \n",
    "# plt.plot(np.diff(np.diff(res[:35,0])))\n",
    "# plot max\n",
    "# plt.plot(res[:10,0])\n",
    "\n",
    "#plot len of results\n",
    "# plt.plot(res[:10,2])\n",
    "\n",
    "#plot diff in avg \n",
    "#calculate pentagonal numbers\n",
    "plt.hist(times[20], bins=100)\n",
    "time = times[20]\n",
    "print([(i, np.round(np.count_nonzero(time == i) / len(time), decimals=5)) for i in range(10)])\n",
    "   \n",
    "#partition with partition1 0\n",
    "pair = PartitionPair(Partition([]), Partition([1]))\n",
    "print(pair.principle())\n",
    "\n",
    "\n",
    "pent = [i * (3*i - 1) // 2 for i in range(1, 35)]\n",
    "pent2 = [i * (3*i + 1) // 2 for i in range(1, 35)]\n",
    "print(biggest[20][0].principle())\n",
    "\n",
    "# # print(principle(biggest[12][0], printout=True))\n",
    "# print(pent)\n",
    "# print(pent2)\n"
   ]
  },
  {
   "cell_type": "code",
   "execution_count": 127,
   "metadata": {},
   "outputs": [
    {
     "name": "stderr",
     "output_type": "stream",
     "text": [
      "MovieWriter imagemagick unavailable; using Pillow instead.\n"
     ]
    },
    {
     "data": {
      "image/png": "[encoded data removed]",
      "text/plain": [
       "<Figure size 1000x600 with 2 Axes>"
      ]
     },
     "metadata": {},
     "output_type": "display_data"
    }
   ],
   "source": [
    "import matplotlib.pyplot as plt\n",
    "import matplotlib.patches as patches\n",
    "from matplotlib.animation import FuncAnimation, FFMpegFileWriter\n",
    "\n",
    "def draw_young_tableau(ax, partition, max_width, max_height):\n",
    "    ax.clear()  # Clear previous drawings\n",
    "    ax.set_aspect('equal')\n",
    "    ax.axis('off')  # Turn off the axis visibility\n",
    "    for y, row in enumerate(partition):\n",
    "        for x in range(row):\n",
    "            # Draw each square with consistent size and color\n",
    "            ax.add_patch(patches.Rectangle((x, -y), 1, -1, fill=True, edgecolor='black', facecolor='lightgray'))\n",
    "    # Adjust subplot limits to maintain consistent square sizes across frames\n",
    "    ax.set_xlim(0, max(max_width, 1))\n",
    "    ax.set_ylim(-max(max_height, 1), 0)\n",
    "    # print partition over the diagram\n",
    "    ax.text(0, 1, str(partition), fontsize=12, ha='left', va='top')\n",
    "\n",
    "\n",
    "def update(frame_number):\n",
    "    partition_pair = partition_pairs[frame_number]\n",
    "    # Determine the max_width and max_height from all partitions to maintain consistent square sizes\n",
    "    # all_partitions = [part for pair in partition_pairs for part in pair]\n",
    "    # max_width = max(max(partition) for partition in all_partitions)\n",
    "    # max_height = max(sum(len(partition) for partition in partition_pairs) // len(partition_pairs), 1)\n",
    "    #create a title\n",
    "    fig.suptitle((\"VAHLEN\" if frame_number % 2 == 0 else \"FRANKLIN\") + \": \" + str(frame_number // 2) + \" \" + (\"START\" if frame_number == 0 else \"END\" if frame_number == len(partition_pairs) - 1 else \"\"))\n",
    "    draw_young_tableau(axs[0], partition_pair.partition1, max_width, max_height)\n",
    "    draw_young_tableau(axs[1], partition_pair.partition2, max_width, max_height)\n",
    "\n",
    "# Example series of partition pairs\n",
    "# partition_pairs = [PartitionPair(Partition([30, 4, 3, 1]), Partition([3, 3, 2, 1, 1])),\n",
    "#                      PartitionPair(Partition([10, 6, 4, 3, 2, 1]), Partition([5, 4, 3, 2, 1])),\n",
    "#                      PartitionPair(Partition([5, 4, 3, 2, 1]), Partition([4, 3, 2, 1])),\n",
    "#                      PartitionPair(Partition([4, 3, 2, 1]), Partition([3, 2, 1])),\n",
    "#                      PartitionPair(Partition([3, 2, 1]), Partition([2, 1])),\n",
    "#                      PartitionPair(Partition([2, 1]), Partition([1]))]\n",
    "pair = biggest[20][0]\n",
    "partition_pairs = [el for el in pair.principle_generator(vahlen=True)]\n",
    "max_height = max([max(len(p.partition1), len(p.partition2)) for p in partition_pairs])\n",
    "max_width = max([max(p.partition1.largest(), p.partition2.largest()) for p in partition_pairs])\n",
    "\n",
    "fig, axs = plt.subplots(1, 2, figsize=(10, 6))  # Adjust the figsize to ensure consistent square sizes\n",
    "ani = FuncAnimation(fig, update, frames=len(partition_pairs), interval=1000, repeat=True)\n",
    "\n",
    "\n",
    "\n",
    "ani.save(filename=\"ffmpeg_example.gif\", writer=\"imagemagick\")\n"
   ]
  },
  {
   "cell_type": "code",
   "execution_count": null,
   "metadata": {},
   "outputs": [],
   "source": []
  },
  {
   "cell_type": "code",
   "execution_count": 50,
   "metadata": {},
   "outputs": [
    {
     "data": {
      "text/plain": [
       "[(5,), (1, 4), (1, 1, 3), (1, 1, 1, 2), (1, 1, 1, 1, 1), (1, 2, 2), (2, 3)]"
      ]
     },
     "execution_count": 50,
     "metadata": {},
     "output_type": "execute_result"
    }
   ],
   "source": []
  },
  {
   "cell_type": "code",
   "execution_count": 17,
   "metadata": {
    "collapsed": false
   },
   "outputs": [
    {
     "name": "stdout",
     "output_type": "stream",
     "text": [
      "[6, 4, 3] [6, 4, 4, 3, 2, 2]\n",
      "False ([6, 4, 3, 2], [6, 4, 4, 3, 2])\n"
     ]
    }
   ],
   "source": [
    "\n",
    "# a[0] : Partition with distinct parts\n",
    "# b[1] : Non-restricted partition\n",
    "def vahlen_involution(a):\n",
    "    d, e = a    \n",
    "    if len(d) == 0 and len(e) == 0:\n",
    "        return (True, a)\n",
    "    if len(d) == 0:\n",
    "        d.append(e[-1])\n",
    "        e.pop()\n",
    "        return (False, (Partition(d), Partition(e)))\n",
    "    if len(e) == 0:\n",
    "        e.append(d[-1])\n",
    "        d.pop()\n",
    "        return (False, (Partition(d), Partition(e)))\n",
    "    if not (len(set(d)) == len(d)):\n",
    "        raise ValueError(\"not all parts in d are distinct\")\n",
    "    if len(d) == 0 or d[-1] <= e[-1]:     \n",
    "        e.append(d[-1])\n",
    "        d.pop()\n",
    "    else:\n",
    "        d.append(e[-1])\n",
    "        e.pop()\n",
    "    return (False, (Partition(d), Partition(e)))\n",
    "\n",
    "\n",
    "\n",
    "a = Partition([6,4,3])\n",
    "b = Partition([6,4,4,3,2,2])\n",
    "print(a,b)\n",
    "b, p = vahlen_involution((a, b))\n",
    "print(b, p)\n",
    "\n"
   ]
  },
  {
   "cell_type": "code",
   "execution_count": 19,
   "metadata": {
    "collapsed": false
   },
   "outputs": [
    {
     "name": "stdout",
     "output_type": "stream",
     "text": [
      "[7, 6, 5, 4]\n",
      "(True, ([7, 6, 5, 4], [7, 5, 4, 3, 2, 2]))\n",
      "(False, ([7, 6, 5, 4, 2], [7, 5, 4, 3, 2]))\n"
     ]
    },
    {
     "ename": "TypeError",
     "evalue": "'Partition' object does not support item assignment",
     "output_type": "error",
     "traceback": [
      "\u001b[1;31m---------------------------------------------------------------------------\u001b[0m",
      "\u001b[1;31mTypeError\u001b[0m                                 Traceback (most recent call last)",
      "Input \u001b[1;32mIn [19]\u001b[0m, in \u001b[0;36m<cell line: 36>\u001b[1;34m()\u001b[0m\n\u001b[0;32m     34\u001b[0m \u001b[38;5;28mprint\u001b[39m(franklin((d,e)))\n\u001b[0;32m     35\u001b[0m \u001b[38;5;28mprint\u001b[39m(vahlen_involution((d, e)))\n\u001b[1;32m---> 36\u001b[0m \u001b[38;5;28mprint\u001b[39m(\u001b[43mfranklin\u001b[49m\u001b[43m(\u001b[49m\u001b[43m(\u001b[49m\u001b[43mPartition\u001b[49m\u001b[43m(\u001b[49m\u001b[43m[\u001b[49m\u001b[38;5;241;43m6\u001b[39;49m\u001b[43m,\u001b[49m\u001b[38;5;241;43m5\u001b[39;49m\u001b[43m,\u001b[49m\u001b[38;5;241;43m2\u001b[39;49m\u001b[43m]\u001b[49m\u001b[43m)\u001b[49m\u001b[43m,\u001b[49m\u001b[43me\u001b[49m\u001b[43m)\u001b[49m\u001b[43m)\u001b[49m)\n",
      "Input \u001b[1;32mIn [19]\u001b[0m, in \u001b[0;36mfranklin\u001b[1;34m(a)\u001b[0m\n\u001b[0;32m     19\u001b[0m \u001b[38;5;28;01mif\u001b[39;00m smallest \u001b[38;5;241m<\u001b[39m\u001b[38;5;241m=\u001b[39m b:\n\u001b[0;32m     20\u001b[0m     \u001b[38;5;28;01mfor\u001b[39;00m i \u001b[38;5;129;01min\u001b[39;00m \u001b[38;5;28mrange\u001b[39m(smallest):\n\u001b[1;32m---> 21\u001b[0m         d[i] \u001b[38;5;241m+\u001b[39m\u001b[38;5;241m=\u001b[39m \u001b[38;5;241m1\u001b[39m\n\u001b[0;32m     22\u001b[0m     d\u001b[38;5;241m.\u001b[39mpop()\n\u001b[0;32m     23\u001b[0m \u001b[38;5;28;01melse\u001b[39;00m:\n",
      "\u001b[1;31mTypeError\u001b[0m: 'Partition' object does not support item assignment"
     ]
    }
   ],
   "source": [
    "def bok(p):\n",
    "    count = 1\n",
    "    for i in range(1, len(p)):\n",
    "        if p[i] != p[i-1] - 1:\n",
    "            break\n",
    "        count += 1\n",
    "    return count\n",
    "\n",
    "def franklin(a):\n",
    "    d, e = a\n",
    "    if len(d) == 0: return (True, a)\n",
    "\n",
    "    smallest = d[-1]\n",
    "    b = bok(a[0])\n",
    "    if b == len(d) and smallest == b:\n",
    "        return (True, a)\n",
    "    if b == len(d) and smallest == b + 1:\n",
    "        return (True, a)\n",
    "    if smallest <= b:\n",
    "        for i in range(smallest):\n",
    "            d[i] += 1\n",
    "        d.pop()\n",
    "    else:\n",
    "        for i in range(b):\n",
    "            d[i] -= 1\n",
    "        d.append(b)\n",
    "    return (False, (Partition(d), Partition(e)))\n",
    "    \n",
    "    \n",
    "\n",
    "d = Partition([7,6,5,4])\n",
    "e = Partition([7,5,4,3,2,2])\n",
    "print(d)\n",
    "print(franklin((d,e)))\n",
    "print(vahlen_involution((d, e)))\n",
    "print(franklin((Partition([6,5,2]),e)))"
   ]
  },
  {
   "cell_type": "code",
   "execution_count": 22,
   "metadata": {
    "collapsed": false
   },
   "outputs": [
    {
     "name": "stdout",
     "output_type": "stream",
     "text": [
      "[8, 5, 3, 2]\n",
      "[6, 4, 3]\n"
     ]
    }
   ],
   "source": [
    "def fineBijection(a, r, inverse=False):\n",
    "    rank = a.get_part(0) - len(a)\n",
    "    la = a.to_list()\n",
    "    if inverse: \n",
    "        if rank >= r - 1:\n",
    "            la = [v+1 for v in la]\n",
    "            la.pop(0)\n",
    "            return Partition(la)\n",
    "        else:\n",
    "            print(\"Inverse cannot be performed, rank too small\")\n",
    "            raise ValueError()\n",
    "    else:\n",
    "        if rank <= r + 1: \n",
    "            la = [v-1 for v in la]\n",
    "            la.insert(0, len(la) + r)\n",
    "            return Partition(la)\n",
    "        else:\n",
    "            print(\"Fine bijection cannot be performed, rank too big\")\n",
    "            raise ValueError()\n",
    "\n",
    "c = fineBijection(a, 5)\n",
    "print(c)\n",
    "print(fineBijection(c, -3, True))"
   ]
  },
  {
   "cell_type": "code",
   "execution_count": 23,
   "metadata": {
    "collapsed": false
   },
   "outputs": [
    {
     "name": "stdout",
     "output_type": "stream",
     "text": [
      "Fine bijection cannot be performed, rank too big\n",
      "ValueError at step 0\n"
     ]
    }
   ],
   "source": [
    "def iterated(a, seq, inverse=False, ferr=False):\n",
    "    for i, s in enumerate(seq):\n",
    "        try:\n",
    "            a = fineBijection(a, s, inverse=inverse)\n",
    "        except ValueError:\n",
    "            print(\"ValueError at step\", i)\n",
    "            return\n",
    "        if ferr: print(a.ferrers_diagram())\n",
    "    return a\n",
    "a = Partition([6,4,3])\n",
    "iterated(a, [1], inverse=False, ferr=True)"
   ]
  },
  {
   "cell_type": "code",
   "execution_count": 24,
   "metadata": {
    "collapsed": false
   },
   "outputs": [
    {
     "name": "stdout",
     "output_type": "stream",
     "text": [
      "[8, 6, 2, 1]\n"
     ]
    }
   ],
   "source": [
    "def iteratedDysonMap(p):\n",
    "    parts = p.to_list()\n",
    "    if all(x % 2 == 1 for x in p.to_list()):\n",
    "        last = parts[-1]\n",
    "        partition = Partition([last])\n",
    "        for i in range(len(parts)-1):\n",
    "            partition = fineBijection(partition, parts[-2-i])\n",
    "        return partition\n",
    "    else:\n",
    "        return ValueError(\"Not all parts are odd\")\n",
    "\n",
    "a = Partition([5,5,3,3,1])\n",
    "print(iteratedDysonMap(a))\n",
    "        \n"
   ]
  },
  {
   "cell_type": "code",
   "execution_count": 25,
   "metadata": {
    "collapsed": false
   },
   "outputs": [
    {
     "name": "stdout",
     "output_type": "stream",
     "text": [
      "0 1\n",
      "1 1\n",
      "0 1\n",
      "[6, 5, 3] [5, 3, 3, 3]\n"
     ]
    }
   ],
   "source": [
    "def GlaisherBijection(p, inverse=False):\n",
    "    if inverse:\n",
    "        if len(set(p.to_list()) ) == len(p.to_list()):\n",
    "            odd = []\n",
    "            for part in p.to_list():\n",
    "                el = part\n",
    "                count = 1\n",
    "                while el % 2 == 0:\n",
    "                    el = el // 2\n",
    "                    count *= 2\n",
    "                odd.extend([el] * count)\n",
    "            return Partition(sorted(odd, reverse=True))\n",
    "        \n",
    "        else: return ValueError(\"Parts are not distinct\")\n",
    "    if all(x % 2 == 1 for x in p.to_list()):\n",
    "        ex = p.to_exp()\n",
    "        diff = []\n",
    "        for i, el in enumerate(ex):\n",
    "            if el == 0: continue\n",
    "            binary = bin(el)[2:]\n",
    "            for j in range(len(binary)):\n",
    "                print(j, binary[-j-1])\n",
    "                if binary[-j-1] == \"1\":\n",
    "                    diff.append((i+1) * 2**j)\n",
    "        return Partition(sorted(diff, reverse=True))\n",
    "    else:\n",
    "        return ValueError(\"Partition should be made of odd parts\")\n",
    "\n",
    "\n",
    "c = Partition([5,3,3,3])\n",
    "gl = GlaisherBijection(c)\n",
    "inv = GlaisherBijection(gl, True)\n",
    "print(gl, inv)\n",
    "\n",
    "    "
   ]
  },
  {
   "cell_type": "code",
   "execution_count": 26,
   "metadata": {
    "collapsed": false
   },
   "outputs": [
    {
     "name": "stdout",
     "output_type": "stream",
     "text": [
      "[22, 21, 19, 18, 15, 10, 9, 9, 7, 4, 2] [11, 11, 10, 10, 9, 9, 9, 8, 8, 6, 5, 5, 5, 5, 5, 4, 4, 4, 3, 2, 2, 1]\n",
      "[0, 3, 5, 9, 10] [21, 17, 9, 3, 1]\n"
     ]
    }
   ],
   "source": [
    "import numpy as np\n",
    "\n",
    "a =  Partition([22, 21, 19, 18, 15, 10, 9,9, 7, 4, 2])\n",
    "alist = a.to_list()\n",
    "b = a.conjugate()\n",
    "\n",
    "rowidx = [i for i in range(len(alist)) if alist[i] % 2 == 0]\n",
    "colidx = [el-1 for el in alist if el % 2 == 0]\n",
    "print(a, b)\n",
    "print(rowidx, colidx)\n",
    "\n"
   ]
  },
  {
   "cell_type": "code",
   "execution_count": null,
   "metadata": {
    "collapsed": false
   },
   "outputs": [],
   "source": []
  },
  {
   "cell_type": "code",
   "execution_count": 106,
   "metadata": {
    "collapsed": false
   },
   "outputs": [
    {
     "name": "stdout",
     "output_type": "stream",
     "text": [
      "[6, 5, 4] [7, 5, 4, 3, 2, 2]\n",
      "(9, ([7, 6, 5, 4], [7, 5, 2, 2]))\n"
     ]
    }
   ],
   "source": [
    "def principle(p, printout=False):\n",
    "    count = 0\n",
    "    if not franklin(p)[0]:\n",
    "        raise ValueError(\"You must provide fixed point partition\")\n",
    "    while True:\n",
    "        b, p = vahlen_involution(p)\n",
    "        # if printout: print(\"VAHLEN\", b, p)\n",
    "        b, p = franklin(p)\n",
    "        if printout: print(\"FRANKLIN\", b, p)\n",
    "        if b: \n",
    "            return (count, p)\n",
    "        count += 1\n",
    "\n",
    "d = Partition([6,5,4])\n",
    "print(d, e)\n",
    "print(principle((d,e)))"
   ]
  },
  {
   "cell_type": "code",
   "execution_count": 64,
   "metadata": {
    "collapsed": false
   },
   "outputs": [],
   "source": [
    "import numpy as np\n",
    "from collections import defaultdict\n",
    "def generate(n, even=True):\n",
    "    elements = dict()\n",
    "    m = 0 if even else 1\n",
    "    while True:\n",
    "        m1 = (m * (3*m - 1)) // 2\n",
    "        if m1 > n: break\n",
    "        d = []\n",
    "        for i in range(m):\n",
    "            d.append(2 * m - 1 - i)\n",
    "        d = Partition(d)\n",
    "        for p in Partitions(n - m1):\n",
    "            elements[(d, p)] = principle((d, p))\n",
    "        m += 2\n",
    "        \n",
    "    m = 0 if even else 1\n",
    "    while True:\n",
    "        m1 = (m * (3*m + 1)) // 2\n",
    "        if m1 > n: break\n",
    "        d = []\n",
    "        for i in range(m):\n",
    "            d.append(2 * m - i)\n",
    "        d = Partition(d)\n",
    "        for p in Partitions(n - m1):\n",
    "            elements[(d, p)] = principle((d, p))\n",
    "        m += 2\n",
    "\n",
    "\n",
    "    return elements\n",
    "  \n",
    "    \n",
    "    \n",
    "h = generate(15)\n",
    "    \n",
    "\n"
   ]
  },
  {
   "cell_type": "code",
   "execution_count": 8,
   "metadata": {},
   "outputs": [
    {
     "data": {
      "application/javascript": "/* Put everything inside the global mpl namespace */\n/* global mpl */\nwindow.mpl = {};\n\nmpl.get_websocket_type = function () {\n    if (typeof WebSocket !== 'undefined') {\n        return WebSocket;\n    } else if (typeof MozWebSocket !== 'undefined') {\n        return MozWebSocket;\n    } else {\n        alert(\n            'Your browser does not have WebSocket support. ' +\n                'Please try Chrome, Safari or Firefox ≥ 6. ' +\n                'Firefox 4 and 5 are also supported but you ' +\n                'have to enable WebSockets in about:config.'\n        );\n    }\n};\n\nmpl.figure = function (figure_id, websocket, ondownload, parent_element) {\n    this.id = figure_id;\n\n    this.ws = websocket;\n\n    this.supports_binary = this.ws.binaryType !== undefined;\n\n    if (!this.supports_binary) {\n        var warnings = document.getElementById('mpl-warnings');\n        if (warnings) {\n            warnings.style.display = 'block';\n            warnings.textContent =\n                'This browser does not support binary websocket messages. ' +\n                'Performance may be slow.';\n        }\n    }\n\n    this.imageObj = new Image();\n\n    this.context = undefined;\n    this.message = undefined;\n    this.canvas = undefined;\n    this.rubberband_canvas = undefined;\n    this.rubberband_context = undefined;\n    this.format_dropdown = undefined;\n\n    this.image_mode = 'full';\n\n    this.root = document.createElement('div');\n    this.root.setAttribute('style', 'display: inline-block');\n    this._root_extra_style(this.root);\n\n    parent_element.appendChild(this.root);\n\n    this._init_header(this);\n    this._init_canvas(this);\n    this._init_toolbar(this);\n\n    var fig = this;\n\n    this.waiting = false;\n\n    this.ws.onopen = function () {\n        fig.send_message('supports_binary', { value: fig.supports_binary });\n        fig.send_message('send_image_mode', {});\n        if (fig.ratio !== 1) {\n            fig.send_message('set_device_pixel_ratio', {\n                device_pixel_ratio: fig.ratio,\n            });\n        }\n        fig.send_message('refresh', {});\n    };\n\n    this.imageObj.onload = function () {\n        if (fig.image_mode === 'full') {\n            // Full images could contain transparency (where diff images\n            // almost always do), so we need to clear the canvas so that\n            // there is no ghosting.\n            fig.context.clearRect(0, 0, fig.canvas.width, fig.canvas.height);\n        }\n        fig.context.drawImage(fig.imageObj, 0, 0);\n    };\n\n    this.imageObj.onunload = function () {\n        fig.ws.close();\n    };\n\n    this.ws.onmessage = this._make_on_message_function(this);\n\n    this.ondownload = ondownload;\n};\n\nmpl.figure.prototype._init_header = function () {\n    var titlebar = document.createElement('div');\n    titlebar.classList =\n        'ui-dialog-titlebar ui-widget-header ui-corner-all ui-helper-clearfix';\n    var titletext = document.createElement('div');\n    titletext.classList = 'ui-dialog-title';\n    titletext.setAttribute(\n        'style',\n        'width: 100%; text-align: center; padding: 3px;'\n    );\n    titlebar.appendChild(titletext);\n    this.root.appendChild(titlebar);\n    this.header = titletext;\n};\n\nmpl.figure.prototype._canvas_extra_style = function (_canvas_div) {};\n\nmpl.figure.prototype._root_extra_style = function (_canvas_div) {};\n\nmpl.figure.prototype._init_canvas = function () {\n    var fig = this;\n\n    var canvas_div = (this.canvas_div = document.createElement('div'));\n    canvas_div.setAttribute(\n        'style',\n        'border: 1px solid #ddd;' +\n            'box-sizing: content-box;' +\n            'clear: both;' +\n            'min-height: 1px;' +\n            'min-width: 1px;' +\n            'outline: 0;' +\n            'overflow: hidden;' +\n            'position: relative;' +\n            'resize: both;'\n    );\n\n    function on_keyboard_event_closure(name) {\n        return function (event) {\n            return fig.key_event(event, name);\n        };\n    }\n\n    canvas_div.addEventListener(\n        'keydown',\n        on_keyboard_event_closure('key_press')\n    );\n    canvas_div.addEventListener(\n        'keyup',\n        on_keyboard_event_closure('key_release')\n    );\n\n    this._canvas_extra_style(canvas_div);\n    this.root.appendChild(canvas_div);\n\n    var canvas = (this.canvas = document.createElement('canvas'));\n    canvas.classList.add('mpl-canvas');\n    canvas.setAttribute('style', 'box-sizing: content-box;');\n\n    this.context = canvas.getContext('2d');\n\n    var backingStore =\n        this.context.backingStorePixelRatio ||\n        this.context.webkitBackingStorePixelRatio ||\n        this.context.mozBackingStorePixelRatio ||\n        this.context.msBackingStorePixelRatio ||\n        this.context.oBackingStorePixelRatio ||\n        this.context.backingStorePixelRatio ||\n        1;\n\n    this.ratio = (window.devicePixelRatio || 1) / backingStore;\n\n    var rubberband_canvas = (this.rubberband_canvas = document.createElement(\n        'canvas'\n    ));\n    rubberband_canvas.setAttribute(\n        'style',\n        'box-sizing: content-box; position: absolute; left: 0; top: 0; z-index: 1;'\n    );\n\n    // Apply a ponyfill if ResizeObserver is not implemented by browser.\n    if (this.ResizeObserver === undefined) {\n        if (window.ResizeObserver !== undefined) {\n            this.ResizeObserver = window.ResizeObserver;\n        } else {\n            var obs = _JSXTOOLS_RESIZE_OBSERVER({});\n            this.ResizeObserver = obs.ResizeObserver;\n        }\n    }\n\n    this.resizeObserverInstance = new this.ResizeObserver(function (entries) {\n        var nentries = entries.length;\n        for (var i = 0; i < nentries; i++) {\n            var entry = entries[i];\n            var width, height;\n            if (entry.contentBoxSize) {\n                if (entry.contentBoxSize instanceof Array) {\n                    // Chrome 84 implements new version of spec.\n                    width = entry.contentBoxSize[0].inlineSize;\n                    height = entry.contentBoxSize[0].blockSize;\n                } else {\n                    // Firefox implements old version of spec.\n                    width = entry.contentBoxSize.inlineSize;\n                    height = entry.contentBoxSize.blockSize;\n                }\n            } else {\n                // Chrome <84 implements even older version of spec.\n                width = entry.contentRect.width;\n                height = entry.contentRect.height;\n            }\n\n            // Keep the size of the canvas and rubber band canvas in sync with\n            // the canvas container.\n            if (entry.devicePixelContentBoxSize) {\n                // Chrome 84 implements new version of spec.\n                canvas.setAttribute(\n                    'width',\n                    entry.devicePixelContentBoxSize[0].inlineSize\n                );\n                canvas.setAttribute(\n                    'height',\n                    entry.devicePixelContentBoxSize[0].blockSize\n                );\n            } else {\n                canvas.setAttribute('width', width * fig.ratio);\n                canvas.setAttribute('height', height * fig.ratio);\n            }\n            canvas.setAttribute(\n                'style',\n                'width: ' + width + 'px; height: ' + height + 'px;'\n            );\n\n            rubberband_canvas.setAttribute('width', width);\n            rubberband_canvas.setAttribute('height', height);\n\n            // And update the size in Python. We ignore the initial 0/0 size\n            // that occurs as the element is placed into the DOM, which should\n            // otherwise not happen due to the minimum size styling.\n            if (fig.ws.readyState == 1 && width != 0 && height != 0) {\n                fig.request_resize(width, height);\n            }\n        }\n    });\n    this.resizeObserverInstance.observe(canvas_div);\n\n    function on_mouse_event_closure(name) {\n        return function (event) {\n            return fig.mouse_event(event, name);\n        };\n    }\n\n    rubberband_canvas.addEventListener(\n        'mousedown',\n        on_mouse_event_closure('button_press')\n    );\n    rubberband_canvas.addEventListener(\n        'mouseup',\n        on_mouse_event_closure('button_release')\n    );\n    rubberband_canvas.addEventListener(\n        'dblclick',\n        on_mouse_event_closure('dblclick')\n    );\n    // Throttle sequential mouse events to 1 every 20ms.\n    rubberband_canvas.addEventListener(\n        'mousemove',\n        on_mouse_event_closure('motion_notify')\n    );\n\n    rubberband_canvas.addEventListener(\n        'mouseenter',\n        on_mouse_event_closure('figure_enter')\n    );\n    rubberband_canvas.addEventListener(\n        'mouseleave',\n        on_mouse_event_closure('figure_leave')\n    );\n\n    canvas_div.addEventListener('wheel', function (event) {\n        if (event.deltaY < 0) {\n            event.step = 1;\n        } else {\n            event.step = -1;\n        }\n        on_mouse_event_closure('scroll')(event);\n    });\n\n    canvas_div.appendChild(canvas);\n    canvas_div.appendChild(rubberband_canvas);\n\n    this.rubberband_context = rubberband_canvas.getContext('2d');\n    this.rubberband_context.strokeStyle = '#000000';\n\n    this._resize_canvas = function (width, height, forward) {\n        if (forward) {\n            canvas_div.style.width = width + 'px';\n            canvas_div.style.height = height + 'px';\n        }\n    };\n\n    // Disable right mouse context menu.\n    this.rubberband_canvas.addEventListener('contextmenu', function (_e) {\n        event.preventDefault();\n        return false;\n    });\n\n    function set_focus() {\n        canvas.focus();\n        canvas_div.focus();\n    }\n\n    window.setTimeout(set_focus, 100);\n};\n\nmpl.figure.prototype._init_toolbar = function () {\n    var fig = this;\n\n    var toolbar = document.createElement('div');\n    toolbar.classList = 'mpl-toolbar';\n    this.root.appendChild(toolbar);\n\n    function on_click_closure(name) {\n        return function (_event) {\n            return fig.toolbar_button_onclick(name);\n        };\n    }\n\n    function on_mouseover_closure(tooltip) {\n        return function (event) {\n            if (!event.currentTarget.disabled) {\n                return fig.toolbar_button_onmouseover(tooltip);\n            }\n        };\n    }\n\n    fig.buttons = {};\n    var buttonGroup = document.createElement('div');\n    buttonGroup.classList = 'mpl-button-group';\n    for (var toolbar_ind in mpl.toolbar_items) {\n        var name = mpl.toolbar_items[toolbar_ind][0];\n        var tooltip = mpl.toolbar_items[toolbar_ind][1];\n        var image = mpl.toolbar_items[toolbar_ind][2];\n        var method_name = mpl.toolbar_items[toolbar_ind][3];\n\n        if (!name) {\n            /* Instead of a spacer, we start a new button group. */\n            if (buttonGroup.hasChildNodes()) {\n                toolbar.appendChild(buttonGroup);\n            }\n            buttonGroup = document.createElement('div');\n            buttonGroup.classList = 'mpl-button-group';\n            continue;\n        }\n\n        var button = (fig.buttons[name] = document.createElement('button'));\n        button.classList = 'mpl-widget';\n        button.setAttribute('role', 'button');\n        button.setAttribute('aria-disabled', 'false');\n        button.addEventListener('click', on_click_closure(method_name));\n        button.addEventListener('mouseover', on_mouseover_closure(tooltip));\n\n        var icon_img = document.createElement('img');\n        icon_img.src = '_images/' + image + '.png';\n        icon_img.srcset = '_images/' + image + '_large.png 2x';\n        icon_img.alt = tooltip;\n        button.appendChild(icon_img);\n\n        buttonGroup.appendChild(button);\n    }\n\n    if (buttonGroup.hasChildNodes()) {\n        toolbar.appendChild(buttonGroup);\n    }\n\n    var fmt_picker = document.createElement('select');\n    fmt_picker.classList = 'mpl-widget';\n    toolbar.appendChild(fmt_picker);\n    this.format_dropdown = fmt_picker;\n\n    for (var ind in mpl.extensions) {\n        var fmt = mpl.extensions[ind];\n        var option = document.createElement('option');\n        option.selected = fmt === mpl.default_extension;\n        option.innerHTML = fmt;\n        fmt_picker.appendChild(option);\n    }\n\n    var status_bar = document.createElement('span');\n    status_bar.classList = 'mpl-message';\n    toolbar.appendChild(status_bar);\n    this.message = status_bar;\n};\n\nmpl.figure.prototype.request_resize = function (x_pixels, y_pixels) {\n    // Request matplotlib to resize the figure. Matplotlib will then trigger a resize in the client,\n    // which will in turn request a refresh of the image.\n    this.send_message('resize', { width: x_pixels, height: y_pixels });\n};\n\nmpl.figure.prototype.send_message = function (type, properties) {\n    properties['type'] = type;\n    properties['figure_id'] = this.id;\n    this.ws.send(JSON.stringify(properties));\n};\n\nmpl.figure.prototype.send_draw_message = function () {\n    if (!this.waiting) {\n        this.waiting = true;\n        this.ws.send(JSON.stringify({ type: 'draw', figure_id: this.id }));\n    }\n};\n\nmpl.figure.prototype.handle_save = function (fig, _msg) {\n    var format_dropdown = fig.format_dropdown;\n    var format = format_dropdown.options[format_dropdown.selectedIndex].value;\n    fig.ondownload(fig, format);\n};\n\nmpl.figure.prototype.handle_resize = function (fig, msg) {\n    var size = msg['size'];\n    if (size[0] !== fig.canvas.width || size[1] !== fig.canvas.height) {\n        fig._resize_canvas(size[0], size[1], msg['forward']);\n        fig.send_message('refresh', {});\n    }\n};\n\nmpl.figure.prototype.handle_rubberband = function (fig, msg) {\n    var x0 = msg['x0'] / fig.ratio;\n    var y0 = (fig.canvas.height - msg['y0']) / fig.ratio;\n    var x1 = msg['x1'] / fig.ratio;\n    var y1 = (fig.canvas.height - msg['y1']) / fig.ratio;\n    x0 = Math.floor(x0) + 0.5;\n    y0 = Math.floor(y0) + 0.5;\n    x1 = Math.floor(x1) + 0.5;\n    y1 = Math.floor(y1) + 0.5;\n    var min_x = Math.min(x0, x1);\n    var min_y = Math.min(y0, y1);\n    var width = Math.abs(x1 - x0);\n    var height = Math.abs(y1 - y0);\n\n    fig.rubberband_context.clearRect(\n        0,\n        0,\n        fig.canvas.width / fig.ratio,\n        fig.canvas.height / fig.ratio\n    );\n\n    fig.rubberband_context.strokeRect(min_x, min_y, width, height);\n};\n\nmpl.figure.prototype.handle_figure_label = function (fig, msg) {\n    // Updates the figure title.\n    fig.header.textContent = msg['label'];\n};\n\nmpl.figure.prototype.handle_cursor = function (fig, msg) {\n    fig.rubberband_canvas.style.cursor = msg['cursor'];\n};\n\nmpl.figure.prototype.handle_message = function (fig, msg) {\n    fig.message.textContent = msg['message'];\n};\n\nmpl.figure.prototype.handle_draw = function (fig, _msg) {\n    // Request the server to send over a new figure.\n    fig.send_draw_message();\n};\n\nmpl.figure.prototype.handle_image_mode = function (fig, msg) {\n    fig.image_mode = msg['mode'];\n};\n\nmpl.figure.prototype.handle_history_buttons = function (fig, msg) {\n    for (var key in msg) {\n        if (!(key in fig.buttons)) {\n            continue;\n        }\n        fig.buttons[key].disabled = !msg[key];\n        fig.buttons[key].setAttribute('aria-disabled', !msg[key]);\n    }\n};\n\nmpl.figure.prototype.handle_navigate_mode = function (fig, msg) {\n    if (msg['mode'] === 'PAN') {\n        fig.buttons['Pan'].classList.add('active');\n        fig.buttons['Zoom'].classList.remove('active');\n    } else if (msg['mode'] === 'ZOOM') {\n        fig.buttons['Pan'].classList.remove('active');\n        fig.buttons['Zoom'].classList.add('active');\n    } else {\n        fig.buttons['Pan'].classList.remove('active');\n        fig.buttons['Zoom'].classList.remove('active');\n    }\n};\n\nmpl.figure.prototype.updated_canvas_event = function () {\n    // Called whenever the canvas gets updated.\n    this.send_message('ack', {});\n};\n\n// A function to construct a web socket function for onmessage handling.\n// Called in the figure constructor.\nmpl.figure.prototype._make_on_message_function = function (fig) {\n    return function socket_on_message(evt) {\n        if (evt.data instanceof Blob) {\n            var img = evt.data;\n            if (img.type !== 'image/png') {\n                /* FIXME: We get \"Resource interpreted as Image but\n                 * transferred with MIME type text/plain:\" errors on\n                 * Chrome.  But how to set the MIME type?  It doesn't seem\n                 * to be part of the websocket stream */\n                img.type = 'image/png';\n            }\n\n            /* Free the memory for the previous frames */\n            if (fig.imageObj.src) {\n                (window.URL || window.webkitURL).revokeObjectURL(\n                    fig.imageObj.src\n                );\n            }\n\n            fig.imageObj.src = (window.URL || window.webkitURL).createObjectURL(\n                img\n            );\n            fig.updated_canvas_event();\n            fig.waiting = false;\n            return;\n        } else if (\n            typeof evt.data === 'string' &&\n            evt.data.slice(0, 21) === 'data:image/png;base64'\n        ) {\n            fig.imageObj.src = evt.data;\n            fig.updated_canvas_event();\n            fig.waiting = false;\n            return;\n        }\n\n        var msg = JSON.parse(evt.data);\n        var msg_type = msg['type'];\n\n        // Call the  \"handle_{type}\" callback, which takes\n        // the figure and JSON message as its only arguments.\n        try {\n            var callback = fig['handle_' + msg_type];\n        } catch (e) {\n            console.log(\n                \"No handler for the '\" + msg_type + \"' message type: \",\n                msg\n            );\n            return;\n        }\n\n        if (callback) {\n            try {\n                // console.log(\"Handling '\" + msg_type + \"' message: \", msg);\n                callback(fig, msg);\n            } catch (e) {\n                console.log(\n                    \"Exception inside the 'handler_\" + msg_type + \"' callback:\",\n                    e,\n                    e.stack,\n                    msg\n                );\n            }\n        }\n    };\n};\n\n// from https://stackoverflow.com/questions/1114465/getting-mouse-location-in-canvas\nmpl.findpos = function (e) {\n    //this section is from http://www.quirksmode.org/js/events_properties.html\n    var targ;\n    if (!e) {\n        e = window.event;\n    }\n    if (e.target) {\n        targ = e.target;\n    } else if (e.srcElement) {\n        targ = e.srcElement;\n    }\n    if (targ.nodeType === 3) {\n        // defeat Safari bug\n        targ = targ.parentNode;\n    }\n\n    // pageX,Y are the mouse positions relative to the document\n    var boundingRect = targ.getBoundingClientRect();\n    var x = e.pageX - (boundingRect.left + document.body.scrollLeft);\n    var y = e.pageY - (boundingRect.top + document.body.scrollTop);\n\n    return { x: x, y: y };\n};\n\n/*\n * return a copy of an object with only non-object keys\n * we need this to avoid circular references\n * https://stackoverflow.com/a/24161582/3208463\n */\nfunction simpleKeys(original) {\n    return Object.keys(original).reduce(function (obj, key) {\n        if (typeof original[key] !== 'object') {\n            obj[key] = original[key];\n        }\n        return obj;\n    }, {});\n}\n\nmpl.figure.prototype.mouse_event = function (event, name) {\n    var canvas_pos = mpl.findpos(event);\n\n    if (name === 'button_press') {\n        this.canvas.focus();\n        this.canvas_div.focus();\n    }\n\n    var x = canvas_pos.x * this.ratio;\n    var y = canvas_pos.y * this.ratio;\n\n    this.send_message(name, {\n        x: x,\n        y: y,\n        button: event.button,\n        step: event.step,\n        guiEvent: simpleKeys(event),\n    });\n\n    /* This prevents the web browser from automatically changing to\n     * the text insertion cursor when the button is pressed.  We want\n     * to control all of the cursor setting manually through the\n     * 'cursor' event from matplotlib */\n    event.preventDefault();\n    return false;\n};\n\nmpl.figure.prototype._key_event_extra = function (_event, _name) {\n    // Handle any extra behaviour associated with a key event\n};\n\nmpl.figure.prototype.key_event = function (event, name) {\n    // Prevent repeat events\n    if (name === 'key_press') {\n        if (event.key === this._key) {\n            return;\n        } else {\n            this._key = event.key;\n        }\n    }\n    if (name === 'key_release') {\n        this._key = null;\n    }\n\n    var value = '';\n    if (event.ctrlKey && event.key !== 'Control') {\n        value += 'ctrl+';\n    }\n    else if (event.altKey && event.key !== 'Alt') {\n        value += 'alt+';\n    }\n    else if (event.shiftKey && event.key !== 'Shift') {\n        value += 'shift+';\n    }\n\n    value += 'k' + event.key;\n\n    this._key_event_extra(event, name);\n\n    this.send_message(name, { key: value, guiEvent: simpleKeys(event) });\n    return false;\n};\n\nmpl.figure.prototype.toolbar_button_onclick = function (name) {\n    if (name === 'download') {\n        this.handle_save(this, null);\n    } else {\n        this.send_message('toolbar_button', { name: name });\n    }\n};\n\nmpl.figure.prototype.toolbar_button_onmouseover = function (tooltip) {\n    this.message.textContent = tooltip;\n};\n\n///////////////// REMAINING CONTENT GENERATED BY embed_js.py /////////////////\n// prettier-ignore\nvar _JSXTOOLS_RESIZE_OBSERVER=function(A){var t,i=new WeakMap,n=new WeakMap,a=new WeakMap,r=new WeakMap,o=new Set;function s(e){if(!(this instanceof s))throw new TypeError(\"Constructor requires 'new' operator\");i.set(this,e)}function h(){throw new TypeError(\"Function is not a constructor\")}function c(e,t,i,n){e=0 in arguments?Number(arguments[0]):0,t=1 in arguments?Number(arguments[1]):0,i=2 in arguments?Number(arguments[2]):0,n=3 in arguments?Number(arguments[3]):0,this.right=(this.x=this.left=e)+(this.width=i),this.bottom=(this.y=this.top=t)+(this.height=n),Object.freeze(this)}function d(){t=requestAnimationFrame(d);var s=new WeakMap,p=new Set;o.forEach((function(t){r.get(t).forEach((function(i){var r=t instanceof window.SVGElement,o=a.get(t),d=r?0:parseFloat(o.paddingTop),f=r?0:parseFloat(o.paddingRight),l=r?0:parseFloat(o.paddingBottom),u=r?0:parseFloat(o.paddingLeft),g=r?0:parseFloat(o.borderTopWidth),m=r?0:parseFloat(o.borderRightWidth),w=r?0:parseFloat(o.borderBottomWidth),b=u+f,F=d+l,v=(r?0:parseFloat(o.borderLeftWidth))+m,W=g+w,y=r?0:t.offsetHeight-W-t.clientHeight,E=r?0:t.offsetWidth-v-t.clientWidth,R=b+v,z=F+W,M=r?t.width:parseFloat(o.width)-R-E,O=r?t.height:parseFloat(o.height)-z-y;if(n.has(t)){var k=n.get(t);if(k[0]===M&&k[1]===O)return}n.set(t,[M,O]);var S=Object.create(h.prototype);S.target=t,S.contentRect=new c(u,d,M,O),s.has(i)||(s.set(i,[]),p.add(i)),s.get(i).push(S)}))})),p.forEach((function(e){i.get(e).call(e,s.get(e),e)}))}return s.prototype.observe=function(i){if(i instanceof window.Element){r.has(i)||(r.set(i,new Set),o.add(i),a.set(i,window.getComputedStyle(i)));var n=r.get(i);n.has(this)||n.add(this),cancelAnimationFrame(t),t=requestAnimationFrame(d)}},s.prototype.unobserve=function(i){if(i instanceof window.Element&&r.has(i)){var n=r.get(i);n.has(this)&&(n.delete(this),n.size||(r.delete(i),o.delete(i))),n.size||r.delete(i),o.size||cancelAnimationFrame(t)}},A.DOMRectReadOnly=c,A.ResizeObserver=s,A.ResizeObserverEntry=h,A}; // eslint-disable-line\nmpl.toolbar_items = [[\"Home\", \"Reset original view\", \"fa fa-home icon-home\", \"home\"], [\"Back\", \"Back to previous view\", \"fa fa-arrow-left icon-arrow-left\", \"back\"], [\"Forward\", \"Forward to next view\", \"fa fa-arrow-right icon-arrow-right\", \"forward\"], [\"\", \"\", \"\", \"\"], [\"Pan\", \"Left button pans, Right button zooms\\nx/y fixes axis, CTRL fixes aspect\", \"fa fa-arrows icon-move\", \"pan\"], [\"Zoom\", \"Zoom to rectangle\\nx/y fixes axis\", \"fa fa-square-o icon-check-empty\", \"zoom\"], [\"\", \"\", \"\", \"\"], [\"Download\", \"Download plot\", \"fa fa-floppy-o icon-save\", \"download\"]];\n\nmpl.extensions = [\"eps\", \"jpeg\", \"pgf\", \"pdf\", \"png\", \"ps\", \"raw\", \"svg\", \"tif\"];\n\nmpl.default_extension = \"png\";/* global mpl */\n\nvar comm_websocket_adapter = function (comm) {\n    // Create a \"websocket\"-like object which calls the given IPython comm\n    // object with the appropriate methods. Currently this is a non binary\n    // socket, so there is still some room for performance tuning.\n    var ws = {};\n\n    ws.binaryType = comm.kernel.ws.binaryType;\n    ws.readyState = comm.kernel.ws.readyState;\n    function updateReadyState(_event) {\n        if (comm.kernel.ws) {\n            ws.readyState = comm.kernel.ws.readyState;\n        } else {\n            ws.readyState = 3; // Closed state.\n        }\n    }\n    comm.kernel.ws.addEventListener('open', updateReadyState);\n    comm.kernel.ws.addEventListener('close', updateReadyState);\n    comm.kernel.ws.addEventListener('error', updateReadyState);\n\n    ws.close = function () {\n        comm.close();\n    };\n    ws.send = function (m) {\n        //console.log('sending', m);\n        comm.send(m);\n    };\n    // Register the callback with on_msg.\n    comm.on_msg(function (msg) {\n        //console.log('receiving', msg['content']['data'], msg);\n        var data = msg['content']['data'];\n        if (data['blob'] !== undefined) {\n            data = {\n                data: new Blob(msg['buffers'], { type: data['blob'] }),\n            };\n        }\n        // Pass the mpl event to the overridden (by mpl) onmessage function.\n        ws.onmessage(data);\n    });\n    return ws;\n};\n\nmpl.mpl_figure_comm = function (comm, msg) {\n    // This is the function which gets called when the mpl process\n    // starts-up an IPython Comm through the \"matplotlib\" channel.\n\n    var id = msg.content.data.id;\n    // Get hold of the div created by the display call when the Comm\n    // socket was opened in Python.\n    var element = document.getElementById(id);\n    var ws_proxy = comm_websocket_adapter(comm);\n\n    function ondownload(figure, _format) {\n        window.open(figure.canvas.toDataURL());\n    }\n\n    var fig = new mpl.figure(id, ws_proxy, ondownload, element);\n\n    // Call onopen now - mpl needs it, as it is assuming we've passed it a real\n    // web socket which is closed, not our websocket->open comm proxy.\n    ws_proxy.onopen();\n\n    fig.parent_element = element;\n    fig.cell_info = mpl.find_output_cell(\"<div id='\" + id + \"'></div>\");\n    if (!fig.cell_info) {\n        console.error('Failed to find cell for figure', id, fig);\n        return;\n    }\n    fig.cell_info[0].output_area.element.on(\n        'cleared',\n        { fig: fig },\n        fig._remove_fig_handler\n    );\n};\n\nmpl.figure.prototype.handle_close = function (fig, msg) {\n    var width = fig.canvas.width / fig.ratio;\n    fig.cell_info[0].output_area.element.off(\n        'cleared',\n        fig._remove_fig_handler\n    );\n    fig.resizeObserverInstance.unobserve(fig.canvas_div);\n\n    // Update the output cell to use the data from the current canvas.\n    fig.push_to_output();\n    var dataURL = fig.canvas.toDataURL();\n    // Re-enable the keyboard manager in IPython - without this line, in FF,\n    // the notebook keyboard shortcuts fail.\n    IPython.keyboard_manager.enable();\n    fig.parent_element.innerHTML =\n        '<img src=\"' + dataURL + '\" width=\"' + width + '\">';\n    fig.close_ws(fig, msg);\n};\n\nmpl.figure.prototype.close_ws = function (fig, msg) {\n    fig.send_message('closing', msg);\n    // fig.ws.close()\n};\n\nmpl.figure.prototype.push_to_output = function (_remove_interactive) {\n    // Turn the data on the canvas into data in the output cell.\n    var width = this.canvas.width / this.ratio;\n    var dataURL = this.canvas.toDataURL();\n    this.cell_info[1]['text/html'] =\n        '<img src=\"' + dataURL + '\" width=\"' + width + '\">';\n};\n\nmpl.figure.prototype.updated_canvas_event = function () {\n    // Tell IPython that the notebook contents must change.\n    IPython.notebook.set_dirty(true);\n    this.send_message('ack', {});\n    var fig = this;\n    // Wait a second, then push the new image to the DOM so\n    // that it is saved nicely (might be nice to debounce this).\n    setTimeout(function () {\n        fig.push_to_output();\n    }, 1000);\n};\n\nmpl.figure.prototype._init_toolbar = function () {\n    var fig = this;\n\n    var toolbar = document.createElement('div');\n    toolbar.classList = 'btn-toolbar';\n    this.root.appendChild(toolbar);\n\n    function on_click_closure(name) {\n        return function (_event) {\n            return fig.toolbar_button_onclick(name);\n        };\n    }\n\n    function on_mouseover_closure(tooltip) {\n        return function (event) {\n            if (!event.currentTarget.disabled) {\n                return fig.toolbar_button_onmouseover(tooltip);\n            }\n        };\n    }\n\n    fig.buttons = {};\n    var buttonGroup = document.createElement('div');\n    buttonGroup.classList = 'btn-group';\n    var button;\n    for (var toolbar_ind in mpl.toolbar_items) {\n        var name = mpl.toolbar_items[toolbar_ind][0];\n        var tooltip = mpl.toolbar_items[toolbar_ind][1];\n        var image = mpl.toolbar_items[toolbar_ind][2];\n        var method_name = mpl.toolbar_items[toolbar_ind][3];\n\n        if (!name) {\n            /* Instead of a spacer, we start a new button group. */\n            if (buttonGroup.hasChildNodes()) {\n                toolbar.appendChild(buttonGroup);\n            }\n            buttonGroup = document.createElement('div');\n            buttonGroup.classList = 'btn-group';\n            continue;\n        }\n\n        button = fig.buttons[name] = document.createElement('button');\n        button.classList = 'btn btn-default';\n        button.href = '#';\n        button.title = name;\n        button.innerHTML = '<i class=\"fa ' + image + ' fa-lg\"></i>';\n        button.addEventListener('click', on_click_closure(method_name));\n        button.addEventListener('mouseover', on_mouseover_closure(tooltip));\n        buttonGroup.appendChild(button);\n    }\n\n    if (buttonGroup.hasChildNodes()) {\n        toolbar.appendChild(buttonGroup);\n    }\n\n    // Add the status bar.\n    var status_bar = document.createElement('span');\n    status_bar.classList = 'mpl-message pull-right';\n    toolbar.appendChild(status_bar);\n    this.message = status_bar;\n\n    // Add the close button to the window.\n    var buttongrp = document.createElement('div');\n    buttongrp.classList = 'btn-group inline pull-right';\n    button = document.createElement('button');\n    button.classList = 'btn btn-mini btn-primary';\n    button.href = '#';\n    button.title = 'Stop Interaction';\n    button.innerHTML = '<i class=\"fa fa-power-off icon-remove icon-large\"></i>';\n    button.addEventListener('click', function (_evt) {\n        fig.handle_close(fig, {});\n    });\n    button.addEventListener(\n        'mouseover',\n        on_mouseover_closure('Stop Interaction')\n    );\n    buttongrp.appendChild(button);\n    var titlebar = this.root.querySelector('.ui-dialog-titlebar');\n    titlebar.insertBefore(buttongrp, titlebar.firstChild);\n};\n\nmpl.figure.prototype._remove_fig_handler = function (event) {\n    var fig = event.data.fig;\n    if (event.target !== this) {\n        // Ignore bubbled events from children.\n        return;\n    }\n    fig.close_ws(fig, {});\n};\n\nmpl.figure.prototype._root_extra_style = function (el) {\n    el.style.boxSizing = 'content-box'; // override notebook setting of border-box.\n};\n\nmpl.figure.prototype._canvas_extra_style = function (el) {\n    // this is important to make the div 'focusable\n    el.setAttribute('tabindex', 0);\n    // reach out to IPython and tell the keyboard manager to turn it's self\n    // off when our div gets focus\n\n    // location in version 3\n    if (IPython.notebook.keyboard_manager) {\n        IPython.notebook.keyboard_manager.register_events(el);\n    } else {\n        // location in version 2\n        IPython.keyboard_manager.register_events(el);\n    }\n};\n\nmpl.figure.prototype._key_event_extra = function (event, _name) {\n    // Check for shift+enter\n    if (event.shiftKey && event.which === 13) {\n        this.canvas_div.blur();\n        // select the cell after this one\n        var index = IPython.notebook.find_cell_index(this.cell_info[0]);\n        IPython.notebook.select(index + 1);\n    }\n};\n\nmpl.figure.prototype.handle_save = function (fig, _msg) {\n    fig.ondownload(fig, null);\n};\n\nmpl.find_output_cell = function (html_output) {\n    // Return the cell and output element which can be found *uniquely* in the notebook.\n    // Note - this is a bit hacky, but it is done because the \"notebook_saving.Notebook\"\n    // IPython event is triggered only after the cells have been serialised, which for\n    // our purposes (turning an active figure into a static one), is too late.\n    var cells = IPython.notebook.get_cells();\n    var ncells = cells.length;\n    for (var i = 0; i < ncells; i++) {\n        var cell = cells[i];\n        if (cell.cell_type === 'code') {\n            for (var j = 0; j < cell.output_area.outputs.length; j++) {\n                var data = cell.output_area.outputs[j];\n                if (data.data) {\n                    // IPython >= 3 moved mimebundle to data attribute of output\n                    data = data.data;\n                }\n                if (data['text/html'] === html_output) {\n                    return [cell, data, j];\n                }\n            }\n        }\n    }\n};\n\n// Register the function which deals with the matplotlib target/channel.\n// The kernel may be null if the page has been refreshed.\nif (IPython.notebook.kernel !== null) {\n    IPython.notebook.kernel.comm_manager.register_target(\n        'matplotlib',\n        mpl.mpl_figure_comm\n    );\n}\n",
      "text/plain": [
       "<IPython.core.display.Javascript object>"
      ]
     },
     "metadata": {},
     "output_type": "display_data"
    },
    {
     "data": {
      "text/html": [
       "<div id='85a46d55-ab3a-4514-b0d5-c80883399ba2'></div>"
      ],
      "text/plain": [
       "<IPython.core.display.HTML object>"
      ]
     },
     "metadata": {},
     "output_type": "display_data"
    }
   ],
   "source": []
  },
  {
   "cell_type": "code",
   "execution_count": 9,
   "metadata": {},
   "outputs": [],
   "source": []
  },
  {
   "cell_type": "code",
   "execution_count": 101,
   "metadata": {
    "collapsed": false
   },
   "outputs": [
    {
     "name": "stdout",
     "output_type": "stream",
     "text": [
      "1 0 0.0 0.0 0.21607327461242676\n",
      "(([], [1]), (0, ([1], [])))\n",
      "2 0 0.0 0.0 0.004614591598510742\n",
      "(([], [2]), (0, ([2], [])))\n",
      "3 1 0.3333333333333333 0.0 0.002370119094848633\n",
      "(([], [3]), (1, ([2], [1])))\n",
      "4 2 0.4 0.0 0.013200759887695312\n",
      "(([], [4]), (2, ([2], [1, 1])))\n",
      "5 3 0.5 0.0 0.004488229751586914\n",
      "(([], [5]), (3, ([2], [1, 1, 1])))\n",
      "6 4 0.6666666666666666 0.0 0.024159669876098633\n",
      "(([], [6]), (4, ([2], [1, 1, 1, 1])))\n",
      "7 5 0.7777777777777778 0.0 0.025998592376708984\n",
      "(([], [7]), (5, ([2], [1, 1, 1, 1, 1])))\n",
      "8 7 0.9230769230769231 0.0 0.05593395233154297\n",
      "(([3, 2], [1, 1, 1]), (7, ([2], [2, 1, 1, 1, 1])))\n",
      "9 9 1.0810810810810811 0.0 0.044274091720581055\n",
      "(([3, 2], [1, 1, 1, 1]), (9, ([2], [2, 1, 1, 1, 1, 1])))\n",
      "10 11 1.2307692307692308 0.0 0.06423640251159668\n",
      "(([3, 2], [1, 1, 1, 1, 1]), (11, ([2], [2, 1, 1, 1, 1, 1, 1])))\n",
      "11 13 1.3888888888888888 0.0 0.07709169387817383\n",
      "(([3, 2], [1, 1, 1, 1, 1, 1]), (13, ([2], [2, 1, 1, 1, 1, 1, 1, 1])))\n",
      "12 16 1.5454545454545454 0.0 0.17414450645446777\n",
      "(([4, 3], [2, 1, 1, 1]), (16, ([2], [4, 1, 1, 1, 1, 1, 1])))\n",
      "13 20 1.7164179104477613 0.0 0.40253114700317383\n",
      "(([4, 3], [2, 1, 1, 1, 1]), (20, ([2], [4, 1, 1, 1, 1, 1, 1, 1])))\n",
      "14 24 1.8888888888888888 0.0 0.6315672397613525\n",
      "(([4, 3], [2, 2, 1, 1, 1]), (24, ([2], [5, 1, 1, 1, 1, 1, 1, 1])))\n",
      "15 30 2.066666666666667 0.0 0.802034854888916\n",
      "(([4, 3], [2, 2, 1, 1, 1, 1]), (30, ([2], [5, 1, 1, 1, 1, 1, 1, 1, 1])))\n",
      "16 36 2.2523659305993693 0.0 0.7910559177398682\n",
      "(([4, 3], [2, 2, 1, 1, 1, 1, 1]), (36, ([2], [5, 1, 1, 1, 1, 1, 1, 1, 1, 1])))\n",
      "17 42 2.4423076923076925 0.0 1.172757625579834\n",
      "(([4, 3], [2, 2, 1, 1, 1, 1, 1, 1]), (42, ([2], [5, 1, 1, 1, 1, 1, 1, 1, 1, 1, 1])))\n",
      "18 48 2.642066420664207 0.0 0.8489527702331543\n",
      "(([4, 3], [2, 2, 2, 1, 1, 1, 1, 1]), (48, ([2], [6, 1, 1, 1, 1, 1, 1, 1, 1, 1, 1])))\n",
      "19 56 2.8461538461538463 0.0 0.9832241535186768\n",
      "(([4, 3], [2, 2, 2, 1, 1, 1, 1, 1, 1]), (56, ([2], [6, 1, 1, 1, 1, 1, 1, 1, 1, 1, 1, 1])))\n",
      "20 64 3.0575221238938055 0.0 1.9898619651794434\n",
      "(([4, 3], [2, 2, 2, 1, 1, 1, 1, 1, 1, 1]), (64, ([2], [6, 1, 1, 1, 1, 1, 1, 1, 1, 1, 1, 1, 1])))\n",
      "21 72 3.2763385146804835 0.0 1.78546142578125\n",
      "(([4, 3], [2, 2, 2, 1, 1, 1, 1, 1, 1, 1, 1]), (72, ([2], [6, 1, 1, 1, 1, 1, 1, 1, 1, 1, 1, 1, 1, 1])))\n",
      "22 80 3.5013550135501355 0.0 2.632009983062744\n",
      "(([4, 3], [2, 2, 2, 2, 1, 1, 1, 1, 1, 1, 1]), (80, ([2], [7, 1, 1, 1, 1, 1, 1, 1, 1, 1, 1, 1, 1, 1])))\n",
      "23 90 3.735042735042735 0.0 2.2664668560028076\n",
      "(([4, 3], [2, 2, 2, 2, 1, 1, 1, 1, 1, 1, 1, 1]), (90, ([2], [7, 1, 1, 1, 1, 1, 1, 1, 1, 1, 1, 1, 1, 1, 1])))\n",
      "24 103 3.976311336717428 0.0 4.480216979980469\n",
      "(([4, 3], [3, 2, 2, 2, 2, 1, 1, 1, 1, 1, 1]), (103, ([5, 4, 3], [2, 2, 2, 1, 1, 1, 1, 1, 1])))\n",
      "25 119 4.2246888664648505 0.0 6.256717681884766\n",
      "(([4, 3], [3, 2, 2, 2, 2, 1, 1, 1, 1, 1, 1, 1]), (119, ([5, 4, 3], [2, 2, 2, 1, 1, 1, 1, 1, 1, 1])))\n",
      "26 135 4.481203007518797 0.0 7.625185966491699\n",
      "(([4, 3], [3, 2, 2, 2, 2, 1, 1, 1, 1, 1, 1, 1, 1]), (135, ([5, 4, 3], [2, 2, 2, 1, 1, 1, 1, 1, 1, 1, 1])))\n",
      "27 151 4.746503120292662 0.0 9.4531409740448\n",
      "(([4, 3], [3, 2, 2, 2, 2, 1, 1, 1, 1, 1, 1, 1, 1, 1]), (151, ([5, 4, 3], [2, 2, 2, 1, 1, 1, 1, 1, 1, 1, 1, 1])))\n",
      "28 169 5.020076150917272 0.0 16.809926509857178\n",
      "(([4, 3], [3, 2, 2, 2, 2, 2, 1, 1, 1, 1, 1, 1, 1, 1]), (169, ([5, 4, 3], [2, 2, 2, 2, 1, 1, 1, 1, 1, 1, 1, 1])))\n",
      "29 194 5.302234636871509 0.0 21.99519968032837\n",
      "(([4, 3], [5, 2, 2, 2, 2, 2, 1, 1, 1, 1, 1, 1, 1]), (194, ([6, 5, 4], [3, 2, 2, 1, 1, 1, 1, 1, 1, 1])))\n"
     ]
    }
   ],
   "source": [
    "\n",
    "\n",
    "\n"
   ]
  },
  {
   "cell_type": "code",
   "execution_count": 110,
   "metadata": {},
   "outputs": [
    {
     "name": "stdout",
     "output_type": "stream",
     "text": [
      "(([4, 3], [2, 2, 2, 1, 1, 1, 1, 1, 1, 1, 1]), (72, ([2], [6, 1, 1, 1, 1, 1, 1, 1, 1, 1, 1, 1, 1, 1])))\n",
      "VAHLEN False ([4, 3, 1], [2, 1, 1, 1])\n",
      "FRANKLIN False ([5, 3], [2, 1, 1, 1])\n",
      "VAHLEN False ([5, 3, 1], [2, 1, 1])\n",
      "FRANKLIN False ([6, 3], [2, 1, 1])\n",
      "VAHLEN False ([6, 3, 1], [2, 1])\n",
      "FRANKLIN False ([7, 3], [2, 1])\n",
      "VAHLEN False ([7, 3, 1], [2])\n",
      "FRANKLIN False ([8, 3], [2])\n",
      "VAHLEN False ([8, 3, 2], [])\n",
      "FRANKLIN False ([7, 3, 2, 1], [])\n",
      "VAHLEN False ([7, 3, 2], [1])\n",
      "FRANKLIN False ([6, 3, 2, 1], [1])\n",
      "VAHLEN False ([6, 3, 2], [1, 1])\n",
      "FRANKLIN False ([5, 3, 2, 1], [1, 1])\n",
      "VAHLEN False ([5, 3, 2], [1, 1, 1])\n",
      "FRANKLIN False ([4, 3, 2, 1], [1, 1, 1])\n",
      "VAHLEN False ([4, 3, 2], [1, 1, 1, 1])\n",
      "FRANKLIN False ([5, 4], [1, 1, 1, 1])\n",
      "VAHLEN False ([5, 4, 1], [1, 1, 1])\n",
      "FRANKLIN False ([6, 4], [1, 1, 1])\n",
      "VAHLEN False ([6, 4, 1], [1, 1])\n",
      "FRANKLIN False ([7, 4], [1, 1])\n",
      "VAHLEN False ([7, 4, 1], [1])\n",
      "FRANKLIN False ([8, 4], [1])\n",
      "VAHLEN False ([8, 4, 1], [])\n",
      "FRANKLIN False ([9, 4], [])\n",
      "VAHLEN False ([9], [4])\n",
      "FRANKLIN False ([8, 1], [4])\n",
      "VAHLEN False ([8], [4, 1])\n",
      "FRANKLIN False ([7, 1], [4, 1])\n",
      "VAHLEN False ([7], [4, 1, 1])\n",
      "FRANKLIN False ([6, 1], [4, 1, 1])\n",
      "VAHLEN False ([6], [4, 1, 1, 1])\n",
      "FRANKLIN False ([5, 1], [4, 1, 1, 1])\n",
      "VAHLEN False ([5], [4, 1, 1, 1, 1])\n",
      "FRANKLIN False ([4, 1], [4, 1, 1, 1, 1])\n",
      "VAHLEN False ([4], [4, 1, 1, 1, 1, 1])\n",
      "FRANKLIN False ([3, 1], [4, 1, 1, 1, 1, 1])\n",
      "VAHLEN False ([3], [4, 1, 1, 1, 1, 1, 1])\n",
      "FRANKLIN False ([2, 1], [4, 1, 1, 1, 1, 1, 1])\n",
      "VAHLEN False ([2], [4, 1, 1, 1, 1, 1, 1, 1])\n",
      "FRANKLIN True ([2], [4, 1, 1, 1, 1, 1, 1, 1])\n",
      "(20, ([2], [4, 1, 1, 1, 1, 1, 1, 1]))\n",
      "[1, 5, 12, 22, 35, 51, 70, 92, 117, 145, 176, 210, 247, 287, 330, 376, 425, 477, 532, 590, 651, 715, 782, 852, 925, 1001, 1080, 1162, 1247, 1335, 1426, 1520, 1617, 1717]\n",
      "[2, 7, 15, 26, 40, 57, 77, 100, 126, 155, 187, 222, 260, 301, 345, 392, 442, 495, 551, 610, 672, 737, 805, 876, 950, 1027, 1107, 1190, 1276, 1365, 1457, 1552, 1650, 1751]\n"
     ]
    },
    {
     "data": {
      "image/png": "[encoded data removed]",
      "text/plain": [
       "<Figure size 432x288 with 1 Axes>"
      ]
     },
     "metadata": {
      "needs_background": "light"
     },
     "output_type": "display_data"
    }
   ],
   "source": [
    "#import matplotlib\n",
    "import matplotlib.pyplot as plt\n",
    "\n",
    "#plot res max\n",
    "# plt.plot(res[:30,0])\n",
    "\n",
    "#plot differences in max\n",
    "#plt.plot(np.diff(res[:30,0]))\n",
    "\n",
    "#plot sec order differences in max \n",
    "# plt.plot(np.diff(np.diff(res[:5,0])))\n",
    "# plot max\n",
    "# plt.plot(res[:10,0])\n",
    "\n",
    "#plot len of results\n",
    "# plt.plot(res[:10,2])\n",
    "\n",
    "#plot diff in avg \n",
    "plt.plot(res[:40,0])\n",
    "#calculate pentagonal numbers\n",
    "pent = [i * (3*i - 1) // 2 for i in range(1, 35)]\n",
    "pent2 = [i * (3*i + 1) // 2 for i in range(1, 35)]\n",
    "\n",
    "print(biggest[20])\n",
    "print(principle(biggest[12][0], printout=True))\n",
    "print(pent)\n",
    "print(pent2)\n",
    "\n"
   ]
  },
  {
   "cell_type": "code",
   "execution_count": null,
   "metadata": {
    "collapsed": false
   },
   "outputs": [],
   "source": []
  },
  {
   "cell_type": "code",
   "execution_count": null,
   "metadata": {
    "collapsed": false
   },
   "outputs": [],
   "source": []
  },
  {
   "cell_type": "code",
   "execution_count": null,
   "metadata": {
    "collapsed": false
   },
   "outputs": [],
   "source": []
  },
  {
   "cell_type": "code",
   "execution_count": null,
   "metadata": {
    "collapsed": false
   },
   "outputs": [],
   "source": []
  },
  {
   "cell_type": "code",
   "execution_count": null,
   "metadata": {
    "collapsed": false
   },
   "outputs": [],
   "source": []
  },
  {
   "cell_type": "code",
   "execution_count": null,
   "metadata": {
    "collapsed": false
   },
   "outputs": [],
   "source": []
  }
 ],
 "metadata": {
  "kernelspec": {
   "display_name": "Python 3",
   "language": "python",
   "name": "python3"
  },
  "language_info": {
   "codemirror_mode": {
    "name": "ipython",
    "version": 3
   },
   "file_extension": ".py",
   "mimetype": "text/x-python",
   "name": "python",
   "nbconvert_exporter": "python",
   "pygments_lexer": "ipython3",
   "version": "3.9.7"
  },
  "orig_nbformat": 4
 },
 "nbformat": 4,
 "nbformat_minor": 4
}
