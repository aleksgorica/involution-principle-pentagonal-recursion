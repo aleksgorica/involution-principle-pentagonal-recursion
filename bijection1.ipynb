{
 "cells": [
  {
   "cell_type": "code",
   "execution_count": null,
   "metadata": {
    "collapsed": false
   },
   "outputs": [],
   "source": []
  },
  {
   "cell_type": "code",
   "execution_count": 20,
   "metadata": {
    "collapsed": false
   },
   "outputs": [
    {
     "name": "stdout",
     "output_type": "stream",
     "text": [
      "[6, 4, 3] [6, 4, 4, 3, 2, 2]\n",
      "False ([6, 4, 3, 2], [6, 4, 4, 3, 2])\n"
     ]
    }
   ],
   "source": [
    "\n",
    "# a[0] : Partition with distinct parts\n",
    "# b[1] : Non-restricted partition\n",
    "def vahlen_involution(a):\n",
    "    d = a[0].to_list()\n",
    "    e = a[1].to_list()\n",
    "    \n",
    "    if len(d) == 0 and len(e) == 0:\n",
    "        return (True, a)\n",
    "    if len(d) == 0:\n",
    "        d.append(e[-1])\n",
    "        e.pop()\n",
    "        return (False, (Partition(d), Partition(e)))\n",
    "    if len(e) == 0:\n",
    "        e.append(d[-1])\n",
    "        d.pop()\n",
    "        return (False, (Partition(d), Partition(e)))\n",
    "    if not (len(set(d)) == len(d)):\n",
    "        raise ValueError(\"not all parts in d are distinct\")\n",
    "    if len(d) == 0 or d[-1] <= e[-1]:     \n",
    "        e.append(d[-1])\n",
    "        d.pop()\n",
    "    else:\n",
    "        d.append(e[-1])\n",
    "        e.pop()\n",
    "    return (False, (Partition(d), Partition(e)))\n",
    "\n",
    "\n",
    "\n",
    "a = Partition([6,4,3])\n",
    "b = Partition([6,4,4,3,2,2])\n",
    "print(a,b)\n",
    "b, p = vahlen_involution((a, b))\n",
    "print(b, p)\n",
    "\n"
   ]
  },
  {
   "cell_type": "code",
   "execution_count": 21,
   "metadata": {
    "collapsed": false
   },
   "outputs": [
    {
     "name": "stdout",
     "output_type": "stream",
     "text": [
      "[7, 6, 5, 4]\n",
      "(True, ([7, 6, 5, 4], [7, 5, 4, 3, 2, 2]))\n",
      "(False, ([7, 6, 5, 4, 2], [7, 5, 4, 3, 2]))\n"
     ]
    }
   ],
   "source": [
    "def bok(p):\n",
    "    p = p.to_list()\n",
    "    a = p[0]\n",
    "    count = 1\n",
    "    for i in range(1, len(p)):\n",
    "        if p[i] != p[i-1] - 1:\n",
    "            break\n",
    "        count += 1\n",
    "    return count\n",
    "\n",
    "def franklin(a):\n",
    "    d, e = a[0].to_list(), a[1].to_list()\n",
    "    if len(d) == 0: return (True, a)\n",
    "\n",
    "    smallest = d[-1]\n",
    "    b = bok(a[0])\n",
    "    if b == len(d) and smallest == b:\n",
    "        return (True, a)\n",
    "    if b == len(d) and smallest == b + 1:\n",
    "        return (True, a)\n",
    "    if smallest <= b:\n",
    "        for i in range(smallest):\n",
    "            d[i] += 1\n",
    "        d.pop()\n",
    "    else:\n",
    "        for i in range(b):\n",
    "            d[i] -= 1\n",
    "        d.append(b)\n",
    "    return (False, (Partition(d), Partition(e)))\n",
    "    \n",
    "    \n",
    "\n",
    "d = Partition([7,6,5,4])\n",
    "e = Partition([7,5,4,3,2,2])\n",
    "print(d)\n",
    "print(franklin((d,e)))\n",
    "print(vahlen_involution((d, e)))"
   ]
  },
  {
   "cell_type": "code",
   "execution_count": 22,
   "metadata": {
    "collapsed": false
   },
   "outputs": [
    {
     "name": "stdout",
     "output_type": "stream",
     "text": [
      "[8, 5, 3, 2]\n",
      "[6, 4, 3]\n"
     ]
    }
   ],
   "source": [
    "def fineBijection(a, r, inverse=False):\n",
    "    rank = a.get_part(0) - len(a)\n",
    "    la = a.to_list()\n",
    "    if inverse: \n",
    "        if rank >= r - 1:\n",
    "            la = [v+1 for v in la]\n",
    "            la.pop(0)\n",
    "            return Partition(la)\n",
    "        else:\n",
    "            print(\"Inverse cannot be performed, rank too small\")\n",
    "            raise ValueError()\n",
    "    else:\n",
    "        if rank <= r + 1: \n",
    "            la = [v-1 for v in la]\n",
    "            la.insert(0, len(la) + r)\n",
    "            return Partition(la)\n",
    "        else:\n",
    "            print(\"Fine bijection cannot be performed, rank too big\")\n",
    "            raise ValueError()\n",
    "\n",
    "c = fineBijection(a, 5)\n",
    "print(c)\n",
    "print(fineBijection(c, -3, True))"
   ]
  },
  {
   "cell_type": "code",
   "execution_count": 23,
   "metadata": {
    "collapsed": false
   },
   "outputs": [
    {
     "name": "stdout",
     "output_type": "stream",
     "text": [
      "Fine bijection cannot be performed, rank too big\n",
      "ValueError at step 0\n"
     ]
    }
   ],
   "source": [
    "def iterated(a, seq, inverse=False, ferr=False):\n",
    "    for i, s in enumerate(seq):\n",
    "        try:\n",
    "            a = fineBijection(a, s, inverse=inverse)\n",
    "        except ValueError:\n",
    "            print(\"ValueError at step\", i)\n",
    "            return\n",
    "        if ferr: print(a.ferrers_diagram())\n",
    "    return a\n",
    "a = Partition([6,4,3])\n",
    "iterated(a, [1], inverse=False, ferr=True)"
   ]
  },
  {
   "cell_type": "code",
   "execution_count": 24,
   "metadata": {
    "collapsed": false
   },
   "outputs": [
    {
     "name": "stdout",
     "output_type": "stream",
     "text": [
      "[8, 6, 2, 1]\n"
     ]
    }
   ],
   "source": [
    "def iteratedDysonMap(p):\n",
    "    parts = p.to_list()\n",
    "    if all(x % 2 == 1 for x in p.to_list()):\n",
    "        last = parts[-1]\n",
    "        partition = Partition([last])\n",
    "        for i in range(len(parts)-1):\n",
    "            partition = fineBijection(partition, parts[-2-i])\n",
    "        return partition\n",
    "    else:\n",
    "        return ValueError(\"Not all parts are odd\")\n",
    "\n",
    "a = Partition([5,5,3,3,1])\n",
    "print(iteratedDysonMap(a))\n",
    "        \n"
   ]
  },
  {
   "cell_type": "code",
   "execution_count": 25,
   "metadata": {
    "collapsed": false
   },
   "outputs": [
    {
     "name": "stdout",
     "output_type": "stream",
     "text": [
      "0 1\n",
      "1 1\n",
      "0 1\n",
      "[6, 5, 3] [5, 3, 3, 3]\n"
     ]
    }
   ],
   "source": [
    "def GlaisherBijection(p, inverse=False):\n",
    "    if inverse:\n",
    "        if len(set(p.to_list()) ) == len(p.to_list()):\n",
    "            odd = []\n",
    "            for part in p.to_list():\n",
    "                el = part\n",
    "                count = 1\n",
    "                while el % 2 == 0:\n",
    "                    el = el // 2\n",
    "                    count *= 2\n",
    "                odd.extend([el] * count)\n",
    "            return Partition(sorted(odd, reverse=True))\n",
    "        \n",
    "        else: return ValueError(\"Parts are not distinct\")\n",
    "    if all(x % 2 == 1 for x in p.to_list()):\n",
    "        ex = p.to_exp()\n",
    "        diff = []\n",
    "        for i, el in enumerate(ex):\n",
    "            if el == 0: continue\n",
    "            binary = bin(el)[2:]\n",
    "            for j in range(len(binary)):\n",
    "                print(j, binary[-j-1])\n",
    "                if binary[-j-1] == \"1\":\n",
    "                    diff.append((i+1) * 2**j)\n",
    "        return Partition(sorted(diff, reverse=True))\n",
    "    else:\n",
    "        return ValueError(\"Partition should be made of odd parts\")\n",
    "\n",
    "\n",
    "c = Partition([5,3,3,3])\n",
    "gl = GlaisherBijection(c)\n",
    "inv = GlaisherBijection(gl, True)\n",
    "print(gl, inv)\n",
    "\n",
    "    "
   ]
  },
  {
   "cell_type": "code",
   "execution_count": 26,
   "metadata": {
    "collapsed": false
   },
   "outputs": [
    {
     "name": "stdout",
     "output_type": "stream",
     "text": [
      "[22, 21, 19, 18, 15, 10, 9, 9, 7, 4, 2] [11, 11, 10, 10, 9, 9, 9, 8, 8, 6, 5, 5, 5, 5, 5, 4, 4, 4, 3, 2, 2, 1]\n",
      "[0, 3, 5, 9, 10] [21, 17, 9, 3, 1]\n"
     ]
    }
   ],
   "source": [
    "import numpy as np\n",
    "\n",
    "a =  Partition([22, 21, 19, 18, 15, 10, 9,9, 7, 4, 2])\n",
    "alist = a.to_list()\n",
    "b = a.conjugate()\n",
    "\n",
    "rowidx = [i for i in range(len(alist)) if alist[i] % 2 == 0]\n",
    "colidx = [el-1 for el in alist if el % 2 == 0]\n",
    "print(a, b)\n",
    "print(rowidx, colidx)\n",
    "\n"
   ]
  },
  {
   "cell_type": "code",
   "execution_count": null,
   "metadata": {
    "collapsed": false
   },
   "outputs": [],
   "source": []
  },
  {
   "cell_type": "code",
   "execution_count": 106,
   "metadata": {
    "collapsed": false
   },
   "outputs": [
    {
     "name": "stdout",
     "output_type": "stream",
     "text": [
      "[6, 5, 4] [7, 5, 4, 3, 2, 2]\n",
      "(9, ([7, 6, 5, 4], [7, 5, 2, 2]))\n"
     ]
    }
   ],
   "source": [
    "def principle(p, printout=False):\n",
    "    count = 0\n",
    "    if not franklin(p)[0]:\n",
    "        raise ValueError(\"You must provide fixed point partition\")\n",
    "    while True:\n",
    "        b, p = vahlen_involution(p)\n",
    "        # if printout: print(\"VAHLEN\", b, p)\n",
    "        b, p = franklin(p)\n",
    "        if printout: print(\"FRANKLIN\", b, p)\n",
    "        if b: \n",
    "            return (count, p)\n",
    "        count += 1\n",
    "\n",
    "d = Partition([6,5,4])\n",
    "print(d, e)\n",
    "print(principle((d,e)))"
   ]
  },
  {
   "cell_type": "code",
   "execution_count": 64,
   "metadata": {
    "collapsed": false
   },
   "outputs": [],
   "source": [
    "import numpy as np\n",
    "from collections import defaultdict\n",
    "def generate(n, even=True):\n",
    "    elements = dict()\n",
    "    m = 0 if even else 1\n",
    "    while True:\n",
    "        m1 = (m * (3*m - 1)) // 2\n",
    "        if m1 > n: break\n",
    "        d = []\n",
    "        for i in range(m):\n",
    "            d.append(2 * m - 1 - i)\n",
    "        d = Partition(d)\n",
    "        for p in Partitions(n - m1):\n",
    "            elements[(d, p)] = principle((d, p))\n",
    "        m += 2\n",
    "        \n",
    "    m = 0 if even else 1\n",
    "    while True:\n",
    "        m1 = (m * (3*m + 1)) // 2\n",
    "        if m1 > n: break\n",
    "        d = []\n",
    "        for i in range(m):\n",
    "            d.append(2 * m - i)\n",
    "        d = Partition(d)\n",
    "        for p in Partitions(n - m1):\n",
    "            elements[(d, p)] = principle((d, p))\n",
    "        m += 2\n",
    "\n",
    "\n",
    "    return elements\n",
    "  \n",
    "    \n",
    "    \n",
    "h = generate(15)\n",
    "    \n",
    "\n"
   ]
  },
  {
   "cell_type": "code",
   "execution_count": 67,
   "metadata": {},
   "outputs": [
    {
     "data": {
      "text/plain": [
       "240"
      ]
     },
     "execution_count": 67,
     "metadata": {},
     "output_type": "execute_result"
    }
   ],
   "source": [
    "len(h)"
   ]
  },
  {
   "cell_type": "code",
   "execution_count": 101,
   "metadata": {
    "collapsed": false
   },
   "outputs": [
    {
     "name": "stdout",
     "output_type": "stream",
     "text": [
      "1 0 0.0 0.0 0.21607327461242676\n",
      "(([], [1]), (0, ([1], [])))\n",
      "2 0 0.0 0.0 0.004614591598510742\n",
      "(([], [2]), (0, ([2], [])))\n",
      "3 1 0.3333333333333333 0.0 0.002370119094848633\n",
      "(([], [3]), (1, ([2], [1])))\n",
      "4 2 0.4 0.0 0.013200759887695312\n",
      "(([], [4]), (2, ([2], [1, 1])))\n",
      "5 3 0.5 0.0 0.004488229751586914\n",
      "(([], [5]), (3, ([2], [1, 1, 1])))\n",
      "6 4 0.6666666666666666 0.0 0.024159669876098633\n",
      "(([], [6]), (4, ([2], [1, 1, 1, 1])))\n",
      "7 5 0.7777777777777778 0.0 0.025998592376708984\n",
      "(([], [7]), (5, ([2], [1, 1, 1, 1, 1])))\n",
      "8 7 0.9230769230769231 0.0 0.05593395233154297\n",
      "(([3, 2], [1, 1, 1]), (7, ([2], [2, 1, 1, 1, 1])))\n",
      "9 9 1.0810810810810811 0.0 0.044274091720581055\n",
      "(([3, 2], [1, 1, 1, 1]), (9, ([2], [2, 1, 1, 1, 1, 1])))\n",
      "10 11 1.2307692307692308 0.0 0.06423640251159668\n",
      "(([3, 2], [1, 1, 1, 1, 1]), (11, ([2], [2, 1, 1, 1, 1, 1, 1])))\n",
      "11 13 1.3888888888888888 0.0 0.07709169387817383\n",
      "(([3, 2], [1, 1, 1, 1, 1, 1]), (13, ([2], [2, 1, 1, 1, 1, 1, 1, 1])))\n",
      "12 16 1.5454545454545454 0.0 0.17414450645446777\n",
      "(([4, 3], [2, 1, 1, 1]), (16, ([2], [4, 1, 1, 1, 1, 1, 1])))\n",
      "13 20 1.7164179104477613 0.0 0.40253114700317383\n",
      "(([4, 3], [2, 1, 1, 1, 1]), (20, ([2], [4, 1, 1, 1, 1, 1, 1, 1])))\n",
      "14 24 1.8888888888888888 0.0 0.6315672397613525\n",
      "(([4, 3], [2, 2, 1, 1, 1]), (24, ([2], [5, 1, 1, 1, 1, 1, 1, 1])))\n",
      "15 30 2.066666666666667 0.0 0.802034854888916\n",
      "(([4, 3], [2, 2, 1, 1, 1, 1]), (30, ([2], [5, 1, 1, 1, 1, 1, 1, 1, 1])))\n",
      "16 36 2.2523659305993693 0.0 0.7910559177398682\n",
      "(([4, 3], [2, 2, 1, 1, 1, 1, 1]), (36, ([2], [5, 1, 1, 1, 1, 1, 1, 1, 1, 1])))\n",
      "17 42 2.4423076923076925 0.0 1.172757625579834\n",
      "(([4, 3], [2, 2, 1, 1, 1, 1, 1, 1]), (42, ([2], [5, 1, 1, 1, 1, 1, 1, 1, 1, 1, 1])))\n",
      "18 48 2.642066420664207 0.0 0.8489527702331543\n",
      "(([4, 3], [2, 2, 2, 1, 1, 1, 1, 1]), (48, ([2], [6, 1, 1, 1, 1, 1, 1, 1, 1, 1, 1])))\n",
      "19 56 2.8461538461538463 0.0 0.9832241535186768\n",
      "(([4, 3], [2, 2, 2, 1, 1, 1, 1, 1, 1]), (56, ([2], [6, 1, 1, 1, 1, 1, 1, 1, 1, 1, 1, 1])))\n",
      "20 64 3.0575221238938055 0.0 1.9898619651794434\n",
      "(([4, 3], [2, 2, 2, 1, 1, 1, 1, 1, 1, 1]), (64, ([2], [6, 1, 1, 1, 1, 1, 1, 1, 1, 1, 1, 1, 1])))\n",
      "21 72 3.2763385146804835 0.0 1.78546142578125\n",
      "(([4, 3], [2, 2, 2, 1, 1, 1, 1, 1, 1, 1, 1]), (72, ([2], [6, 1, 1, 1, 1, 1, 1, 1, 1, 1, 1, 1, 1, 1])))\n",
      "22 80 3.5013550135501355 0.0 2.632009983062744\n",
      "(([4, 3], [2, 2, 2, 2, 1, 1, 1, 1, 1, 1, 1]), (80, ([2], [7, 1, 1, 1, 1, 1, 1, 1, 1, 1, 1, 1, 1, 1])))\n",
      "23 90 3.735042735042735 0.0 2.2664668560028076\n",
      "(([4, 3], [2, 2, 2, 2, 1, 1, 1, 1, 1, 1, 1, 1]), (90, ([2], [7, 1, 1, 1, 1, 1, 1, 1, 1, 1, 1, 1, 1, 1, 1])))\n",
      "24 103 3.976311336717428 0.0 4.480216979980469\n",
      "(([4, 3], [3, 2, 2, 2, 2, 1, 1, 1, 1, 1, 1]), (103, ([5, 4, 3], [2, 2, 2, 1, 1, 1, 1, 1, 1])))\n",
      "25 119 4.2246888664648505 0.0 6.256717681884766\n",
      "(([4, 3], [3, 2, 2, 2, 2, 1, 1, 1, 1, 1, 1, 1]), (119, ([5, 4, 3], [2, 2, 2, 1, 1, 1, 1, 1, 1, 1])))\n",
      "26 135 4.481203007518797 0.0 7.625185966491699\n",
      "(([4, 3], [3, 2, 2, 2, 2, 1, 1, 1, 1, 1, 1, 1, 1]), (135, ([5, 4, 3], [2, 2, 2, 1, 1, 1, 1, 1, 1, 1, 1])))\n",
      "27 151 4.746503120292662 0.0 9.4531409740448\n",
      "(([4, 3], [3, 2, 2, 2, 2, 1, 1, 1, 1, 1, 1, 1, 1, 1]), (151, ([5, 4, 3], [2, 2, 2, 1, 1, 1, 1, 1, 1, 1, 1, 1])))\n",
      "28 169 5.020076150917272 0.0 16.809926509857178\n",
      "(([4, 3], [3, 2, 2, 2, 2, 2, 1, 1, 1, 1, 1, 1, 1, 1]), (169, ([5, 4, 3], [2, 2, 2, 2, 1, 1, 1, 1, 1, 1, 1, 1])))\n",
      "29 194 5.302234636871509 0.0 21.99519968032837\n",
      "(([4, 3], [5, 2, 2, 2, 2, 2, 1, 1, 1, 1, 1, 1, 1]), (194, ([6, 5, 4], [3, 2, 2, 1, 1, 1, 1, 1, 1, 1])))\n"
     ]
    }
   ],
   "source": [
    "from time import time\n",
    "def results(generated):\n",
    "    iterat = []\n",
    "    part = []\n",
    "    for X, Y in generated.items():\n",
    "        xD, xP = X\n",
    "        iterations, (yD, yP) = Y\n",
    "        iterat.append(iterations)\n",
    "        part.append((X, Y))\n",
    "        if abs(len(xD.to_list()) - len(yD.to_list())) != 1: return (True, iterat)\n",
    "    return (False, iterat, part)\n",
    "time_start = time()\n",
    "res = np.zeros((40, 5))\n",
    "biggest = []\n",
    "for i in range(1, 30):\n",
    "    h = generate(i)\n",
    "    b, iterat, part = results(h)\n",
    "    print(i, np.max(iterat), np.average(iterat), np.median(iterat), time() - time_start)\n",
    "    print(part[np.argmax(iterat)])\n",
    "    biggest.append(part[np.argmax(iterat)])\n",
    "    # index of max iterat\n",
    "    res[i] = [np.max(iterat), np.average(iterat), len(h), np.std(iterat), np.argmax(iterat)]\n",
    "    time_start = time()\n",
    "\n",
    "\n",
    "\n"
   ]
  },
  {
   "cell_type": "code",
   "execution_count": 110,
   "metadata": {},
   "outputs": [
    {
     "name": "stdout",
     "output_type": "stream",
     "text": [
      "(([4, 3], [2, 2, 2, 1, 1, 1, 1, 1, 1, 1, 1]), (72, ([2], [6, 1, 1, 1, 1, 1, 1, 1, 1, 1, 1, 1, 1, 1])))\n",
      "VAHLEN False ([4, 3, 1], [2, 1, 1, 1])\n",
      "FRANKLIN False ([5, 3], [2, 1, 1, 1])\n",
      "VAHLEN False ([5, 3, 1], [2, 1, 1])\n",
      "FRANKLIN False ([6, 3], [2, 1, 1])\n",
      "VAHLEN False ([6, 3, 1], [2, 1])\n",
      "FRANKLIN False ([7, 3], [2, 1])\n",
      "VAHLEN False ([7, 3, 1], [2])\n",
      "FRANKLIN False ([8, 3], [2])\n",
      "VAHLEN False ([8, 3, 2], [])\n",
      "FRANKLIN False ([7, 3, 2, 1], [])\n",
      "VAHLEN False ([7, 3, 2], [1])\n",
      "FRANKLIN False ([6, 3, 2, 1], [1])\n",
      "VAHLEN False ([6, 3, 2], [1, 1])\n",
      "FRANKLIN False ([5, 3, 2, 1], [1, 1])\n",
      "VAHLEN False ([5, 3, 2], [1, 1, 1])\n",
      "FRANKLIN False ([4, 3, 2, 1], [1, 1, 1])\n",
      "VAHLEN False ([4, 3, 2], [1, 1, 1, 1])\n",
      "FRANKLIN False ([5, 4], [1, 1, 1, 1])\n",
      "VAHLEN False ([5, 4, 1], [1, 1, 1])\n",
      "FRANKLIN False ([6, 4], [1, 1, 1])\n",
      "VAHLEN False ([6, 4, 1], [1, 1])\n",
      "FRANKLIN False ([7, 4], [1, 1])\n",
      "VAHLEN False ([7, 4, 1], [1])\n",
      "FRANKLIN False ([8, 4], [1])\n",
      "VAHLEN False ([8, 4, 1], [])\n",
      "FRANKLIN False ([9, 4], [])\n",
      "VAHLEN False ([9], [4])\n",
      "FRANKLIN False ([8, 1], [4])\n",
      "VAHLEN False ([8], [4, 1])\n",
      "FRANKLIN False ([7, 1], [4, 1])\n",
      "VAHLEN False ([7], [4, 1, 1])\n",
      "FRANKLIN False ([6, 1], [4, 1, 1])\n",
      "VAHLEN False ([6], [4, 1, 1, 1])\n",
      "FRANKLIN False ([5, 1], [4, 1, 1, 1])\n",
      "VAHLEN False ([5], [4, 1, 1, 1, 1])\n",
      "FRANKLIN False ([4, 1], [4, 1, 1, 1, 1])\n",
      "VAHLEN False ([4], [4, 1, 1, 1, 1, 1])\n",
      "FRANKLIN False ([3, 1], [4, 1, 1, 1, 1, 1])\n",
      "VAHLEN False ([3], [4, 1, 1, 1, 1, 1, 1])\n",
      "FRANKLIN False ([2, 1], [4, 1, 1, 1, 1, 1, 1])\n",
      "VAHLEN False ([2], [4, 1, 1, 1, 1, 1, 1, 1])\n",
      "FRANKLIN True ([2], [4, 1, 1, 1, 1, 1, 1, 1])\n",
      "(20, ([2], [4, 1, 1, 1, 1, 1, 1, 1]))\n",
      "[1, 5, 12, 22, 35, 51, 70, 92, 117, 145, 176, 210, 247, 287, 330, 376, 425, 477, 532, 590, 651, 715, 782, 852, 925, 1001, 1080, 1162, 1247, 1335, 1426, 1520, 1617, 1717]\n",
      "[2, 7, 15, 26, 40, 57, 77, 100, 126, 155, 187, 222, 260, 301, 345, 392, 442, 495, 551, 610, 672, 737, 805, 876, 950, 1027, 1107, 1190, 1276, 1365, 1457, 1552, 1650, 1751]\n"
     ]
    },
    {
     "data": {
      "image/png": "[encoded data removed]",
      "text/plain": [
       "<Figure size 432x288 with 1 Axes>"
      ]
     },
     "metadata": {
      "needs_background": "light"
     },
     "output_type": "display_data"
    }
   ],
   "source": [
    "#import matplotlib\n",
    "import matplotlib.pyplot as plt\n",
    "\n",
    "#plot res max\n",
    "# plt.plot(res[:30,0])\n",
    "\n",
    "#plot differences in max\n",
    "#plt.plot(np.diff(res[:30,0]))\n",
    "\n",
    "#plot sec order differences in max \n",
    "# plt.plot(np.diff(np.diff(res[:5,0])))\n",
    "# plot max\n",
    "# plt.plot(res[:10,0])\n",
    "\n",
    "#plot len of results\n",
    "# plt.plot(res[:10,2])\n",
    "\n",
    "#plot diff in avg \n",
    "plt.plot(res[:40,0])\n",
    "#calculate pentagonal numbers\n",
    "pent = [i * (3*i - 1) // 2 for i in range(1, 35)]\n",
    "pent2 = [i * (3*i + 1) // 2 for i in range(1, 35)]\n",
    "\n",
    "print(biggest[20])\n",
    "print(principle(biggest[12][0], printout=True))\n",
    "print(pent)\n",
    "print(pent2)\n",
    "\n"
   ]
  },
  {
   "cell_type": "code",
   "execution_count": null,
   "metadata": {
    "collapsed": false
   },
   "outputs": [],
   "source": []
  },
  {
   "cell_type": "code",
   "execution_count": null,
   "metadata": {
    "collapsed": false
   },
   "outputs": [],
   "source": []
  },
  {
   "cell_type": "code",
   "execution_count": null,
   "metadata": {
    "collapsed": false
   },
   "outputs": [],
   "source": []
  },
  {
   "cell_type": "code",
   "execution_count": null,
   "metadata": {
    "collapsed": false
   },
   "outputs": [],
   "source": []
  },
  {
   "cell_type": "code",
   "execution_count": null,
   "metadata": {
    "collapsed": false
   },
   "outputs": [],
   "source": []
  },
  {
   "cell_type": "code",
   "execution_count": null,
   "metadata": {
    "collapsed": false
   },
   "outputs": [],
   "source": []
  }
 ],
 "metadata": {
  "kernelspec": {
   "argv": [
    "sage-10.1",
    "--python",
    "-m",
    "sage.repl.ipython_kernel",
    "--matplotlib=inline",
    "-f",
    "{connection_file}"
   ],
   "display_name": "SageMath 9.7",
   "env": {},
   "language": "sage",
   "name": "sagemath",
   "resource_dir": "/ext/jupyter/kernels/sage-10.1"
  },
  "language_info": {
   "codemirror_mode": {
    "name": "ipython",
    "version": 3
   },
   "file_extension": ".py",
   "mimetype": "text/x-python",
   "name": "python",
   "nbconvert_exporter": "python",
   "pygments_lexer": "ipython3",
   "version": "3.10.5"
  },
  "orig_nbformat": 4
 },
 "nbformat": 4,
 "nbformat_minor": 4
}
